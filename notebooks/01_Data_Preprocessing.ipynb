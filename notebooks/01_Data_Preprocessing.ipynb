{
 "cells": [
  {
   "cell_type": "code",
   "execution_count": 1,
   "id": "ca3e6c0a",
   "metadata": {},
   "outputs": [],
   "source": [
    "import pandas as pd\n",
    "import numpy as np\n",
    "import seaborn as sns\n",
    "import matplotlib.pyplot as plt\n",
    "import datetime as dt\n",
    "%matplotlib inline"
   ]
  },
  {
   "cell_type": "code",
   "execution_count": 2,
   "id": "8ae38557",
   "metadata": {},
   "outputs": [],
   "source": [
    "# csv\n",
    "df = pd.read_csv(\"../data/raw/train.csv\")"
   ]
  },
  {
   "cell_type": "code",
   "execution_count": 3,
   "id": "255d33f0",
   "metadata": {},
   "outputs": [
    {
     "data": {
      "text/plain": [
       "(233154, 41)"
      ]
     },
     "execution_count": 3,
     "metadata": {},
     "output_type": "execute_result"
    }
   ],
   "source": [
    "df.shape"
   ]
  },
  {
   "cell_type": "code",
   "execution_count": 4,
   "id": "ba1bf19b",
   "metadata": {},
   "outputs": [
    {
     "name": "stdout",
     "output_type": "stream",
     "text": [
      "<class 'pandas.core.frame.DataFrame'>\n",
      "RangeIndex: 233154 entries, 0 to 233153\n",
      "Data columns (total 41 columns):\n",
      " #   Column                               Non-Null Count   Dtype  \n",
      "---  ------                               --------------   -----  \n",
      " 0   UNIQUEID                             233154 non-null  int64  \n",
      " 1   DISBURSED_AMOUNT                     233154 non-null  int64  \n",
      " 2   ASSET_COST                           233154 non-null  int64  \n",
      " 3   LTV                                  233154 non-null  float64\n",
      " 4   BRANCH_ID                            233154 non-null  int64  \n",
      " 5   SUPPLIER_ID                          233154 non-null  int64  \n",
      " 6   MANUFACTURER_ID                      233154 non-null  int64  \n",
      " 7   CURRENT_PINCODE_ID                   233154 non-null  int64  \n",
      " 8   DATE_OF_BIRTH                        233154 non-null  object \n",
      " 9   EMPLOYMENT_TYPE                      225493 non-null  object \n",
      " 10  DISBURSAL_DATE                       233154 non-null  object \n",
      " 11  STATE_ID                             233154 non-null  int64  \n",
      " 12  EMPLOYEE_CODE_ID                     233154 non-null  int64  \n",
      " 13  MOBILENO_AVL_FLAG                    233154 non-null  int64  \n",
      " 14  AADHAR_FLAG                          233154 non-null  int64  \n",
      " 15  PAN_FLAG                             233154 non-null  int64  \n",
      " 16  VOTERID_FLAG                         233154 non-null  int64  \n",
      " 17  DRIVING_FLAG                         233154 non-null  int64  \n",
      " 18  PASSPORT_FLAG                        233154 non-null  int64  \n",
      " 19  PERFORM_CNS_SCORE                    233154 non-null  int64  \n",
      " 20  PERFORM_CNS_SCORE_DESCRIPTION        233154 non-null  object \n",
      " 21  PRI_NO_OF_ACCTS                      233154 non-null  int64  \n",
      " 22  PRI_ACTIVE_ACCTS                     233154 non-null  int64  \n",
      " 23  PRI_OVERDUE_ACCTS                    233154 non-null  int64  \n",
      " 24  PRI_CURRENT_BALANCE                  233154 non-null  int64  \n",
      " 25  PRI_SANCTIONED_AMOUNT                233154 non-null  int64  \n",
      " 26  PRI_DISBURSED_AMOUNT                 233154 non-null  int64  \n",
      " 27  SEC_NO_OF_ACCTS                      233154 non-null  int64  \n",
      " 28  SEC_ACTIVE_ACCTS                     233154 non-null  int64  \n",
      " 29  SEC_OVERDUE_ACCTS                    233154 non-null  int64  \n",
      " 30  SEC_CURRENT_BALANCE                  233154 non-null  int64  \n",
      " 31  SEC_SANCTIONED_AMOUNT                233154 non-null  int64  \n",
      " 32  SEC_DISBURSED_AMOUNT                 233154 non-null  int64  \n",
      " 33  PRIMARY_INSTAL_AMT                   233154 non-null  int64  \n",
      " 34  SEC_INSTAL_AMT                       233154 non-null  int64  \n",
      " 35  NEW_ACCTS_IN_LAST_SIX_MONTHS         233154 non-null  int64  \n",
      " 36  DELINQUENT_ACCTS_IN_LAST_SIX_MONTHS  233154 non-null  int64  \n",
      " 37  AVERAGE_ACCT_AGE                     233154 non-null  object \n",
      " 38  CREDIT_HISTORY_LENGTH                233154 non-null  object \n",
      " 39  NO_OF_INQUIRIES                      233154 non-null  int64  \n",
      " 40  LOAN_DEFAULT                         233154 non-null  int64  \n",
      "dtypes: float64(1), int64(34), object(6)\n",
      "memory usage: 72.9+ MB\n"
     ]
    }
   ],
   "source": [
    "df.info()"
   ]
  },
  {
   "cell_type": "code",
   "execution_count": 5,
   "id": "ae6a0469",
   "metadata": {},
   "outputs": [
    {
     "data": {
      "text/html": [
       "<div>\n",
       "<style scoped>\n",
       "    .dataframe tbody tr th:only-of-type {\n",
       "        vertical-align: middle;\n",
       "    }\n",
       "\n",
       "    .dataframe tbody tr th {\n",
       "        vertical-align: top;\n",
       "    }\n",
       "\n",
       "    .dataframe thead th {\n",
       "        text-align: right;\n",
       "    }\n",
       "</style>\n",
       "<table border=\"1\" class=\"dataframe\">\n",
       "  <thead>\n",
       "    <tr style=\"text-align: right;\">\n",
       "      <th></th>\n",
       "      <th>UNIQUEID</th>\n",
       "      <th>DISBURSED_AMOUNT</th>\n",
       "      <th>ASSET_COST</th>\n",
       "      <th>LTV</th>\n",
       "      <th>BRANCH_ID</th>\n",
       "      <th>SUPPLIER_ID</th>\n",
       "      <th>MANUFACTURER_ID</th>\n",
       "      <th>CURRENT_PINCODE_ID</th>\n",
       "      <th>STATE_ID</th>\n",
       "      <th>EMPLOYEE_CODE_ID</th>\n",
       "      <th>...</th>\n",
       "      <th>SEC_OVERDUE_ACCTS</th>\n",
       "      <th>SEC_CURRENT_BALANCE</th>\n",
       "      <th>SEC_SANCTIONED_AMOUNT</th>\n",
       "      <th>SEC_DISBURSED_AMOUNT</th>\n",
       "      <th>PRIMARY_INSTAL_AMT</th>\n",
       "      <th>SEC_INSTAL_AMT</th>\n",
       "      <th>NEW_ACCTS_IN_LAST_SIX_MONTHS</th>\n",
       "      <th>DELINQUENT_ACCTS_IN_LAST_SIX_MONTHS</th>\n",
       "      <th>NO_OF_INQUIRIES</th>\n",
       "      <th>LOAN_DEFAULT</th>\n",
       "    </tr>\n",
       "  </thead>\n",
       "  <tbody>\n",
       "    <tr>\n",
       "      <th>count</th>\n",
       "      <td>233154.000000</td>\n",
       "      <td>233154.000000</td>\n",
       "      <td>2.331540e+05</td>\n",
       "      <td>233154.000000</td>\n",
       "      <td>233154.000000</td>\n",
       "      <td>233154.000000</td>\n",
       "      <td>233154.000000</td>\n",
       "      <td>233154.000000</td>\n",
       "      <td>233154.000000</td>\n",
       "      <td>233154.000000</td>\n",
       "      <td>...</td>\n",
       "      <td>233154.000000</td>\n",
       "      <td>2.331540e+05</td>\n",
       "      <td>2.331540e+05</td>\n",
       "      <td>2.331540e+05</td>\n",
       "      <td>2.331540e+05</td>\n",
       "      <td>2.331540e+05</td>\n",
       "      <td>233154.000000</td>\n",
       "      <td>233154.000000</td>\n",
       "      <td>233154.000000</td>\n",
       "      <td>233154.000000</td>\n",
       "    </tr>\n",
       "    <tr>\n",
       "      <th>mean</th>\n",
       "      <td>535917.573376</td>\n",
       "      <td>54356.993528</td>\n",
       "      <td>7.586507e+04</td>\n",
       "      <td>74.746530</td>\n",
       "      <td>72.936094</td>\n",
       "      <td>19638.635035</td>\n",
       "      <td>69.028054</td>\n",
       "      <td>3396.880247</td>\n",
       "      <td>7.262243</td>\n",
       "      <td>1549.477148</td>\n",
       "      <td>...</td>\n",
       "      <td>0.007244</td>\n",
       "      <td>5.427793e+03</td>\n",
       "      <td>7.295923e+03</td>\n",
       "      <td>7.179998e+03</td>\n",
       "      <td>1.310548e+04</td>\n",
       "      <td>3.232684e+02</td>\n",
       "      <td>0.381833</td>\n",
       "      <td>0.097481</td>\n",
       "      <td>0.206615</td>\n",
       "      <td>0.217071</td>\n",
       "    </tr>\n",
       "    <tr>\n",
       "      <th>std</th>\n",
       "      <td>68315.693711</td>\n",
       "      <td>12971.314171</td>\n",
       "      <td>1.894478e+04</td>\n",
       "      <td>11.456636</td>\n",
       "      <td>69.834995</td>\n",
       "      <td>3491.949566</td>\n",
       "      <td>22.141304</td>\n",
       "      <td>2238.147502</td>\n",
       "      <td>4.482230</td>\n",
       "      <td>975.261278</td>\n",
       "      <td>...</td>\n",
       "      <td>0.111079</td>\n",
       "      <td>1.702370e+05</td>\n",
       "      <td>1.831560e+05</td>\n",
       "      <td>1.825925e+05</td>\n",
       "      <td>1.513679e+05</td>\n",
       "      <td>1.555369e+04</td>\n",
       "      <td>0.955107</td>\n",
       "      <td>0.384439</td>\n",
       "      <td>0.706498</td>\n",
       "      <td>0.412252</td>\n",
       "    </tr>\n",
       "    <tr>\n",
       "      <th>min</th>\n",
       "      <td>417428.000000</td>\n",
       "      <td>13320.000000</td>\n",
       "      <td>3.700000e+04</td>\n",
       "      <td>10.030000</td>\n",
       "      <td>1.000000</td>\n",
       "      <td>10524.000000</td>\n",
       "      <td>45.000000</td>\n",
       "      <td>1.000000</td>\n",
       "      <td>1.000000</td>\n",
       "      <td>1.000000</td>\n",
       "      <td>...</td>\n",
       "      <td>0.000000</td>\n",
       "      <td>-5.746470e+05</td>\n",
       "      <td>0.000000e+00</td>\n",
       "      <td>0.000000e+00</td>\n",
       "      <td>0.000000e+00</td>\n",
       "      <td>0.000000e+00</td>\n",
       "      <td>0.000000</td>\n",
       "      <td>0.000000</td>\n",
       "      <td>0.000000</td>\n",
       "      <td>0.000000</td>\n",
       "    </tr>\n",
       "    <tr>\n",
       "      <th>25%</th>\n",
       "      <td>476786.250000</td>\n",
       "      <td>47145.000000</td>\n",
       "      <td>6.571700e+04</td>\n",
       "      <td>68.880000</td>\n",
       "      <td>14.000000</td>\n",
       "      <td>16535.000000</td>\n",
       "      <td>48.000000</td>\n",
       "      <td>1511.000000</td>\n",
       "      <td>4.000000</td>\n",
       "      <td>713.000000</td>\n",
       "      <td>...</td>\n",
       "      <td>0.000000</td>\n",
       "      <td>0.000000e+00</td>\n",
       "      <td>0.000000e+00</td>\n",
       "      <td>0.000000e+00</td>\n",
       "      <td>0.000000e+00</td>\n",
       "      <td>0.000000e+00</td>\n",
       "      <td>0.000000</td>\n",
       "      <td>0.000000</td>\n",
       "      <td>0.000000</td>\n",
       "      <td>0.000000</td>\n",
       "    </tr>\n",
       "    <tr>\n",
       "      <th>50%</th>\n",
       "      <td>535978.500000</td>\n",
       "      <td>53803.000000</td>\n",
       "      <td>7.094600e+04</td>\n",
       "      <td>76.800000</td>\n",
       "      <td>61.000000</td>\n",
       "      <td>20333.000000</td>\n",
       "      <td>86.000000</td>\n",
       "      <td>2970.000000</td>\n",
       "      <td>6.000000</td>\n",
       "      <td>1451.000000</td>\n",
       "      <td>...</td>\n",
       "      <td>0.000000</td>\n",
       "      <td>0.000000e+00</td>\n",
       "      <td>0.000000e+00</td>\n",
       "      <td>0.000000e+00</td>\n",
       "      <td>0.000000e+00</td>\n",
       "      <td>0.000000e+00</td>\n",
       "      <td>0.000000</td>\n",
       "      <td>0.000000</td>\n",
       "      <td>0.000000</td>\n",
       "      <td>0.000000</td>\n",
       "    </tr>\n",
       "    <tr>\n",
       "      <th>75%</th>\n",
       "      <td>595039.750000</td>\n",
       "      <td>60413.000000</td>\n",
       "      <td>7.920175e+04</td>\n",
       "      <td>83.670000</td>\n",
       "      <td>130.000000</td>\n",
       "      <td>23000.000000</td>\n",
       "      <td>86.000000</td>\n",
       "      <td>5677.000000</td>\n",
       "      <td>10.000000</td>\n",
       "      <td>2362.000000</td>\n",
       "      <td>...</td>\n",
       "      <td>0.000000</td>\n",
       "      <td>0.000000e+00</td>\n",
       "      <td>0.000000e+00</td>\n",
       "      <td>0.000000e+00</td>\n",
       "      <td>1.999000e+03</td>\n",
       "      <td>0.000000e+00</td>\n",
       "      <td>0.000000</td>\n",
       "      <td>0.000000</td>\n",
       "      <td>0.000000</td>\n",
       "      <td>0.000000</td>\n",
       "    </tr>\n",
       "    <tr>\n",
       "      <th>max</th>\n",
       "      <td>671084.000000</td>\n",
       "      <td>990572.000000</td>\n",
       "      <td>1.628992e+06</td>\n",
       "      <td>95.000000</td>\n",
       "      <td>261.000000</td>\n",
       "      <td>24803.000000</td>\n",
       "      <td>156.000000</td>\n",
       "      <td>7345.000000</td>\n",
       "      <td>22.000000</td>\n",
       "      <td>3795.000000</td>\n",
       "      <td>...</td>\n",
       "      <td>8.000000</td>\n",
       "      <td>3.603285e+07</td>\n",
       "      <td>3.000000e+07</td>\n",
       "      <td>3.000000e+07</td>\n",
       "      <td>2.564281e+07</td>\n",
       "      <td>4.170901e+06</td>\n",
       "      <td>35.000000</td>\n",
       "      <td>20.000000</td>\n",
       "      <td>36.000000</td>\n",
       "      <td>1.000000</td>\n",
       "    </tr>\n",
       "  </tbody>\n",
       "</table>\n",
       "<p>8 rows × 35 columns</p>\n",
       "</div>"
      ],
      "text/plain": [
       "            UNIQUEID  DISBURSED_AMOUNT    ASSET_COST            LTV  \\\n",
       "count  233154.000000     233154.000000  2.331540e+05  233154.000000   \n",
       "mean   535917.573376      54356.993528  7.586507e+04      74.746530   \n",
       "std     68315.693711      12971.314171  1.894478e+04      11.456636   \n",
       "min    417428.000000      13320.000000  3.700000e+04      10.030000   \n",
       "25%    476786.250000      47145.000000  6.571700e+04      68.880000   \n",
       "50%    535978.500000      53803.000000  7.094600e+04      76.800000   \n",
       "75%    595039.750000      60413.000000  7.920175e+04      83.670000   \n",
       "max    671084.000000     990572.000000  1.628992e+06      95.000000   \n",
       "\n",
       "           BRANCH_ID    SUPPLIER_ID  MANUFACTURER_ID  CURRENT_PINCODE_ID  \\\n",
       "count  233154.000000  233154.000000    233154.000000       233154.000000   \n",
       "mean       72.936094   19638.635035        69.028054         3396.880247   \n",
       "std        69.834995    3491.949566        22.141304         2238.147502   \n",
       "min         1.000000   10524.000000        45.000000            1.000000   \n",
       "25%        14.000000   16535.000000        48.000000         1511.000000   \n",
       "50%        61.000000   20333.000000        86.000000         2970.000000   \n",
       "75%       130.000000   23000.000000        86.000000         5677.000000   \n",
       "max       261.000000   24803.000000       156.000000         7345.000000   \n",
       "\n",
       "            STATE_ID  EMPLOYEE_CODE_ID  ...  SEC_OVERDUE_ACCTS  \\\n",
       "count  233154.000000     233154.000000  ...      233154.000000   \n",
       "mean        7.262243       1549.477148  ...           0.007244   \n",
       "std         4.482230        975.261278  ...           0.111079   \n",
       "min         1.000000          1.000000  ...           0.000000   \n",
       "25%         4.000000        713.000000  ...           0.000000   \n",
       "50%         6.000000       1451.000000  ...           0.000000   \n",
       "75%        10.000000       2362.000000  ...           0.000000   \n",
       "max        22.000000       3795.000000  ...           8.000000   \n",
       "\n",
       "       SEC_CURRENT_BALANCE  SEC_SANCTIONED_AMOUNT  SEC_DISBURSED_AMOUNT  \\\n",
       "count         2.331540e+05           2.331540e+05          2.331540e+05   \n",
       "mean          5.427793e+03           7.295923e+03          7.179998e+03   \n",
       "std           1.702370e+05           1.831560e+05          1.825925e+05   \n",
       "min          -5.746470e+05           0.000000e+00          0.000000e+00   \n",
       "25%           0.000000e+00           0.000000e+00          0.000000e+00   \n",
       "50%           0.000000e+00           0.000000e+00          0.000000e+00   \n",
       "75%           0.000000e+00           0.000000e+00          0.000000e+00   \n",
       "max           3.603285e+07           3.000000e+07          3.000000e+07   \n",
       "\n",
       "       PRIMARY_INSTAL_AMT  SEC_INSTAL_AMT  NEW_ACCTS_IN_LAST_SIX_MONTHS  \\\n",
       "count        2.331540e+05    2.331540e+05                 233154.000000   \n",
       "mean         1.310548e+04    3.232684e+02                      0.381833   \n",
       "std          1.513679e+05    1.555369e+04                      0.955107   \n",
       "min          0.000000e+00    0.000000e+00                      0.000000   \n",
       "25%          0.000000e+00    0.000000e+00                      0.000000   \n",
       "50%          0.000000e+00    0.000000e+00                      0.000000   \n",
       "75%          1.999000e+03    0.000000e+00                      0.000000   \n",
       "max          2.564281e+07    4.170901e+06                     35.000000   \n",
       "\n",
       "       DELINQUENT_ACCTS_IN_LAST_SIX_MONTHS  NO_OF_INQUIRIES   LOAN_DEFAULT  \n",
       "count                        233154.000000    233154.000000  233154.000000  \n",
       "mean                              0.097481         0.206615       0.217071  \n",
       "std                               0.384439         0.706498       0.412252  \n",
       "min                               0.000000         0.000000       0.000000  \n",
       "25%                               0.000000         0.000000       0.000000  \n",
       "50%                               0.000000         0.000000       0.000000  \n",
       "75%                               0.000000         0.000000       0.000000  \n",
       "max                              20.000000        36.000000       1.000000  \n",
       "\n",
       "[8 rows x 35 columns]"
      ]
     },
     "execution_count": 5,
     "metadata": {},
     "output_type": "execute_result"
    }
   ],
   "source": [
    "df.describe()"
   ]
  },
  {
   "cell_type": "code",
   "execution_count": 6,
   "id": "1ad9aaa1",
   "metadata": {},
   "outputs": [],
   "source": [
    "# drop agreed upon columns\n",
    "\n",
    "colnames = ['DISBURSED_AMOUNT',\n",
    " 'ASSET_COST',\n",
    " 'DATE_OF_BIRTH',\n",
    " 'EMPLOYMENT_TYPE',\n",
    " 'DISBURSAL_DATE',\n",
    " 'DRIVING_FLAG',\n",
    " 'PERFORM_CNS_SCORE',\n",
    " 'PRI_NO_OF_ACCTS',\n",
    " 'PRI_ACTIVE_ACCTS',\n",
    " 'PRI_OVERDUE_ACCTS',\n",
    " 'PRI_CURRENT_BALANCE',\n",
    " 'PRI_SANCTIONED_AMOUNT',\n",
    " 'PRI_DISBURSED_AMOUNT',\n",
    " 'SEC_NO_OF_ACCTS',\n",
    " 'SEC_ACTIVE_ACCTS',\n",
    " 'SEC_OVERDUE_ACCTS',\n",
    " 'SEC_CURRENT_BALANCE',\n",
    " 'SEC_SANCTIONED_AMOUNT',\n",
    " 'SEC_DISBURSED_AMOUNT',\n",
    " 'PRIMARY_INSTAL_AMT',\n",
    " 'SEC_INSTAL_AMT',\n",
    " 'NEW_ACCTS_IN_LAST_SIX_MONTHS',\n",
    " 'DELINQUENT_ACCTS_IN_LAST_SIX_MONTHS',\n",
    " 'AVERAGE_ACCT_AGE',\n",
    " 'CREDIT_HISTORY_LENGTH',\n",
    " 'NO_OF_INQUIRIES',\n",
    " 'LOAN_DEFAULT']\n",
    "\n",
    "df.drop(df.columns.difference(colnames), axis=1, inplace=True)"
   ]
  },
  {
   "cell_type": "markdown",
   "id": "db11d9e0",
   "metadata": {},
   "source": [
    "## Data transformation"
   ]
  },
  {
   "cell_type": "code",
   "execution_count": 7,
   "id": "a04956e6",
   "metadata": {},
   "outputs": [
    {
     "data": {
      "text/html": [
       "<div>\n",
       "<style scoped>\n",
       "    .dataframe tbody tr th:only-of-type {\n",
       "        vertical-align: middle;\n",
       "    }\n",
       "\n",
       "    .dataframe tbody tr th {\n",
       "        vertical-align: top;\n",
       "    }\n",
       "\n",
       "    .dataframe thead th {\n",
       "        text-align: right;\n",
       "    }\n",
       "</style>\n",
       "<table border=\"1\" class=\"dataframe\">\n",
       "  <thead>\n",
       "    <tr style=\"text-align: right;\">\n",
       "      <th></th>\n",
       "      <th>DATE_OF_BIRTH</th>\n",
       "      <th>EMPLOYMENT_TYPE</th>\n",
       "      <th>DISBURSAL_DATE</th>\n",
       "      <th>AVERAGE_ACCT_AGE</th>\n",
       "      <th>CREDIT_HISTORY_LENGTH</th>\n",
       "    </tr>\n",
       "  </thead>\n",
       "  <tbody>\n",
       "    <tr>\n",
       "      <th>0</th>\n",
       "      <td>01-01-1984</td>\n",
       "      <td>Salaried</td>\n",
       "      <td>03-08-2018</td>\n",
       "      <td>0yrs 0mon</td>\n",
       "      <td>0yrs 0mon</td>\n",
       "    </tr>\n",
       "    <tr>\n",
       "      <th>1</th>\n",
       "      <td>31-07-1985</td>\n",
       "      <td>Self employed</td>\n",
       "      <td>26-09-2018</td>\n",
       "      <td>1yrs 11mon</td>\n",
       "      <td>1yrs 11mon</td>\n",
       "    </tr>\n",
       "    <tr>\n",
       "      <th>2</th>\n",
       "      <td>24-08-1985</td>\n",
       "      <td>Self employed</td>\n",
       "      <td>01-08-2018</td>\n",
       "      <td>0yrs 0mon</td>\n",
       "      <td>0yrs 0mon</td>\n",
       "    </tr>\n",
       "    <tr>\n",
       "      <th>3</th>\n",
       "      <td>30-12-1993</td>\n",
       "      <td>Self employed</td>\n",
       "      <td>26-10-2018</td>\n",
       "      <td>0yrs 8mon</td>\n",
       "      <td>1yrs 3mon</td>\n",
       "    </tr>\n",
       "    <tr>\n",
       "      <th>4</th>\n",
       "      <td>09-12-1977</td>\n",
       "      <td>Self employed</td>\n",
       "      <td>26-09-2018</td>\n",
       "      <td>0yrs 0mon</td>\n",
       "      <td>0yrs 0mon</td>\n",
       "    </tr>\n",
       "    <tr>\n",
       "      <th>...</th>\n",
       "      <td>...</td>\n",
       "      <td>...</td>\n",
       "      <td>...</td>\n",
       "      <td>...</td>\n",
       "      <td>...</td>\n",
       "    </tr>\n",
       "    <tr>\n",
       "      <th>233149</th>\n",
       "      <td>01-08-1988</td>\n",
       "      <td>Salaried</td>\n",
       "      <td>26-10-2018</td>\n",
       "      <td>1yrs 9mon</td>\n",
       "      <td>3yrs 3mon</td>\n",
       "    </tr>\n",
       "    <tr>\n",
       "      <th>233150</th>\n",
       "      <td>05-12-1988</td>\n",
       "      <td>Self employed</td>\n",
       "      <td>23-10-2018</td>\n",
       "      <td>0yrs 6mon</td>\n",
       "      <td>0yrs 6mon</td>\n",
       "    </tr>\n",
       "    <tr>\n",
       "      <th>233151</th>\n",
       "      <td>01-06-1976</td>\n",
       "      <td>Salaried</td>\n",
       "      <td>24-10-2018</td>\n",
       "      <td>0yrs 0mon</td>\n",
       "      <td>0yrs 0mon</td>\n",
       "    </tr>\n",
       "    <tr>\n",
       "      <th>233152</th>\n",
       "      <td>26-03-1994</td>\n",
       "      <td>Salaried</td>\n",
       "      <td>29-09-2018</td>\n",
       "      <td>0yrs 0mon</td>\n",
       "      <td>0yrs 0mon</td>\n",
       "    </tr>\n",
       "    <tr>\n",
       "      <th>233153</th>\n",
       "      <td>18-02-1984</td>\n",
       "      <td>Salaried</td>\n",
       "      <td>27-10-2018</td>\n",
       "      <td>0yrs 0mon</td>\n",
       "      <td>0yrs 0mon</td>\n",
       "    </tr>\n",
       "  </tbody>\n",
       "</table>\n",
       "<p>233154 rows × 5 columns</p>\n",
       "</div>"
      ],
      "text/plain": [
       "       DATE_OF_BIRTH EMPLOYMENT_TYPE DISBURSAL_DATE AVERAGE_ACCT_AGE  \\\n",
       "0         01-01-1984        Salaried     03-08-2018        0yrs 0mon   \n",
       "1         31-07-1985   Self employed     26-09-2018       1yrs 11mon   \n",
       "2         24-08-1985   Self employed     01-08-2018        0yrs 0mon   \n",
       "3         30-12-1993   Self employed     26-10-2018        0yrs 8mon   \n",
       "4         09-12-1977   Self employed     26-09-2018        0yrs 0mon   \n",
       "...              ...             ...            ...              ...   \n",
       "233149    01-08-1988        Salaried     26-10-2018        1yrs 9mon   \n",
       "233150    05-12-1988   Self employed     23-10-2018        0yrs 6mon   \n",
       "233151    01-06-1976        Salaried     24-10-2018        0yrs 0mon   \n",
       "233152    26-03-1994        Salaried     29-09-2018        0yrs 0mon   \n",
       "233153    18-02-1984        Salaried     27-10-2018        0yrs 0mon   \n",
       "\n",
       "       CREDIT_HISTORY_LENGTH  \n",
       "0                  0yrs 0mon  \n",
       "1                 1yrs 11mon  \n",
       "2                  0yrs 0mon  \n",
       "3                  1yrs 3mon  \n",
       "4                  0yrs 0mon  \n",
       "...                      ...  \n",
       "233149             3yrs 3mon  \n",
       "233150             0yrs 6mon  \n",
       "233151             0yrs 0mon  \n",
       "233152             0yrs 0mon  \n",
       "233153             0yrs 0mon  \n",
       "\n",
       "[233154 rows x 5 columns]"
      ]
     },
     "execution_count": 7,
     "metadata": {},
     "output_type": "execute_result"
    }
   ],
   "source": [
    "df.select_dtypes(include=object)"
   ]
  },
  {
   "cell_type": "code",
   "execution_count": 8,
   "id": "a9b4c172",
   "metadata": {},
   "outputs": [],
   "source": [
    "# convert dates so that we can have years-months-days format to manipulate\n",
    "\n",
    "df['DATE_OF_BIRTH'] = pd.to_datetime(df['DATE_OF_BIRTH'])\n",
    "df['DISBURSAL_DATE'] = pd.to_datetime(df['DISBURSAL_DATE'])\n"
   ]
  },
  {
   "cell_type": "code",
   "execution_count": 9,
   "id": "d015dfc9",
   "metadata": {},
   "outputs": [],
   "source": [
    "# convert dates to years? or days? I think days is better so that we dont have to worry about decimal points\n",
    "\n",
    "# convert back to string to manipulate dates and remove \"-\" sign so that we can substract using Timestamp\n",
    "df['DATE_OF_BIRTH'] = df['DATE_OF_BIRTH'].apply(lambda x: str(x).replace(\"-\",\"\"))\n",
    "df['DISBURSAL_DATE'] = df['DISBURSAL_DATE'].apply(lambda x: str(x).replace(\"-\",\"\"))\n",
    "\n",
    "df['DATE_OF_BIRTH'] = df['DATE_OF_BIRTH'].apply(lambda x: x.split()[0])\n",
    "df['DISBURSAL_DATE'] = df['DISBURSAL_DATE'].apply(lambda x: x.split()[0])\n",
    "\n",
    "# use timestamp to substract\n",
    "df['DATE_OF_BIRTH'] = df['DATE_OF_BIRTH'].apply(lambda x: pd.Timestamp(x))\n",
    "df['DISBURSAL_DATE'] = df['DISBURSAL_DATE'].apply(lambda x: pd.Timestamp(x))\n",
    "\n",
    "# hard input todays date in a new column and subtract from dates column\n",
    "\n",
    "df['TODAYS_DATE'] = pd.Timestamp('20211214')\n",
    "\n",
    "df['LOANEE_DOB_DAYS'] = (df['TODAYS_DATE'] - df['DATE_OF_BIRTH']).dt.days\n",
    "df['DISBURSAL_DATE_DAYS'] = (df['TODAYS_DATE'] - df['DISBURSAL_DATE']).dt.days\n",
    "\n",
    "# drop TODAYS_DATE, DATE_OF_BIRTH, DISBURSAL_DATE column\n",
    "drop_col = ['TODAYS_DATE','DATE_OF_BIRTH', 'DISBURSAL_DATE']\n",
    "df.drop(columns=drop_col, axis=1, inplace=True)"
   ]
  },
  {
   "cell_type": "code",
   "execution_count": 10,
   "id": "b378270d",
   "metadata": {
    "scrolled": true
   },
   "outputs": [],
   "source": [
    "# convert ages to days\n",
    "\n",
    "df['AVERAGE_ACCT_AGE_DAYS'] = df['AVERAGE_ACCT_AGE'].apply(lambda x: (int(x.split()[0].replace(\"yrs\",\"\"))*365) + (int(x.split()[1].replace(\"mon\",\"\"))*30))\n",
    "df['CREDIT_HISTORY_LENGTH_DAYS'] = df[\"CREDIT_HISTORY_LENGTH\"].apply(lambda x: (int(x.split()[0].replace(\"yrs\",\"\"))*365) + (int(x.split()[1].replace(\"mon\",\"\"))*30))\n",
    "\n",
    "# drop AVERAGE_ACCT_AGE, CREDIT_HISTORY_LENGTH\n",
    "df.drop(columns=['AVERAGE_ACCT_AGE', 'CREDIT_HISTORY_LENGTH'], axis=1, inplace=True)"
   ]
  },
  {
   "cell_type": "code",
   "execution_count": 11,
   "id": "c9a97243",
   "metadata": {},
   "outputs": [
    {
     "data": {
      "text/html": [
       "<div>\n",
       "<style scoped>\n",
       "    .dataframe tbody tr th:only-of-type {\n",
       "        vertical-align: middle;\n",
       "    }\n",
       "\n",
       "    .dataframe tbody tr th {\n",
       "        vertical-align: top;\n",
       "    }\n",
       "\n",
       "    .dataframe thead th {\n",
       "        text-align: right;\n",
       "    }\n",
       "</style>\n",
       "<table border=\"1\" class=\"dataframe\">\n",
       "  <thead>\n",
       "    <tr style=\"text-align: right;\">\n",
       "      <th></th>\n",
       "      <th>DISBURSED_AMOUNT</th>\n",
       "      <th>ASSET_COST</th>\n",
       "      <th>EMPLOYMENT_TYPE</th>\n",
       "      <th>DRIVING_FLAG</th>\n",
       "      <th>PERFORM_CNS_SCORE</th>\n",
       "      <th>PRI_NO_OF_ACCTS</th>\n",
       "      <th>PRI_ACTIVE_ACCTS</th>\n",
       "      <th>PRI_OVERDUE_ACCTS</th>\n",
       "      <th>PRI_CURRENT_BALANCE</th>\n",
       "      <th>PRI_SANCTIONED_AMOUNT</th>\n",
       "      <th>...</th>\n",
       "      <th>PRIMARY_INSTAL_AMT</th>\n",
       "      <th>SEC_INSTAL_AMT</th>\n",
       "      <th>NEW_ACCTS_IN_LAST_SIX_MONTHS</th>\n",
       "      <th>DELINQUENT_ACCTS_IN_LAST_SIX_MONTHS</th>\n",
       "      <th>NO_OF_INQUIRIES</th>\n",
       "      <th>LOAN_DEFAULT</th>\n",
       "      <th>LOANEE_DOB_DAYS</th>\n",
       "      <th>DISBURSAL_DATE_DAYS</th>\n",
       "      <th>AVERAGE_ACCT_AGE_DAYS</th>\n",
       "      <th>CREDIT_HISTORY_LENGTH_DAYS</th>\n",
       "    </tr>\n",
       "  </thead>\n",
       "  <tbody>\n",
       "    <tr>\n",
       "      <th>0</th>\n",
       "      <td>50578</td>\n",
       "      <td>58400</td>\n",
       "      <td>Salaried</td>\n",
       "      <td>0</td>\n",
       "      <td>0</td>\n",
       "      <td>0</td>\n",
       "      <td>0</td>\n",
       "      <td>0</td>\n",
       "      <td>0</td>\n",
       "      <td>0</td>\n",
       "      <td>...</td>\n",
       "      <td>0</td>\n",
       "      <td>0</td>\n",
       "      <td>0</td>\n",
       "      <td>0</td>\n",
       "      <td>0</td>\n",
       "      <td>0</td>\n",
       "      <td>13862</td>\n",
       "      <td>1377</td>\n",
       "      <td>0</td>\n",
       "      <td>0</td>\n",
       "    </tr>\n",
       "    <tr>\n",
       "      <th>1</th>\n",
       "      <td>47145</td>\n",
       "      <td>65550</td>\n",
       "      <td>Self employed</td>\n",
       "      <td>0</td>\n",
       "      <td>598</td>\n",
       "      <td>1</td>\n",
       "      <td>1</td>\n",
       "      <td>1</td>\n",
       "      <td>27600</td>\n",
       "      <td>50200</td>\n",
       "      <td>...</td>\n",
       "      <td>1991</td>\n",
       "      <td>0</td>\n",
       "      <td>0</td>\n",
       "      <td>1</td>\n",
       "      <td>0</td>\n",
       "      <td>1</td>\n",
       "      <td>13285</td>\n",
       "      <td>1175</td>\n",
       "      <td>695</td>\n",
       "      <td>695</td>\n",
       "    </tr>\n",
       "    <tr>\n",
       "      <th>2</th>\n",
       "      <td>53278</td>\n",
       "      <td>61360</td>\n",
       "      <td>Self employed</td>\n",
       "      <td>0</td>\n",
       "      <td>0</td>\n",
       "      <td>0</td>\n",
       "      <td>0</td>\n",
       "      <td>0</td>\n",
       "      <td>0</td>\n",
       "      <td>0</td>\n",
       "      <td>...</td>\n",
       "      <td>0</td>\n",
       "      <td>0</td>\n",
       "      <td>0</td>\n",
       "      <td>0</td>\n",
       "      <td>0</td>\n",
       "      <td>0</td>\n",
       "      <td>13261</td>\n",
       "      <td>1436</td>\n",
       "      <td>0</td>\n",
       "      <td>0</td>\n",
       "    </tr>\n",
       "    <tr>\n",
       "      <th>3</th>\n",
       "      <td>57513</td>\n",
       "      <td>66113</td>\n",
       "      <td>Self employed</td>\n",
       "      <td>0</td>\n",
       "      <td>305</td>\n",
       "      <td>3</td>\n",
       "      <td>0</td>\n",
       "      <td>0</td>\n",
       "      <td>0</td>\n",
       "      <td>0</td>\n",
       "      <td>...</td>\n",
       "      <td>31</td>\n",
       "      <td>0</td>\n",
       "      <td>0</td>\n",
       "      <td>0</td>\n",
       "      <td>1</td>\n",
       "      <td>1</td>\n",
       "      <td>10211</td>\n",
       "      <td>1145</td>\n",
       "      <td>240</td>\n",
       "      <td>455</td>\n",
       "    </tr>\n",
       "    <tr>\n",
       "      <th>4</th>\n",
       "      <td>52378</td>\n",
       "      <td>60300</td>\n",
       "      <td>Self employed</td>\n",
       "      <td>0</td>\n",
       "      <td>0</td>\n",
       "      <td>0</td>\n",
       "      <td>0</td>\n",
       "      <td>0</td>\n",
       "      <td>0</td>\n",
       "      <td>0</td>\n",
       "      <td>...</td>\n",
       "      <td>0</td>\n",
       "      <td>0</td>\n",
       "      <td>0</td>\n",
       "      <td>0</td>\n",
       "      <td>1</td>\n",
       "      <td>1</td>\n",
       "      <td>16164</td>\n",
       "      <td>1175</td>\n",
       "      <td>0</td>\n",
       "      <td>0</td>\n",
       "    </tr>\n",
       "    <tr>\n",
       "      <th>...</th>\n",
       "      <td>...</td>\n",
       "      <td>...</td>\n",
       "      <td>...</td>\n",
       "      <td>...</td>\n",
       "      <td>...</td>\n",
       "      <td>...</td>\n",
       "      <td>...</td>\n",
       "      <td>...</td>\n",
       "      <td>...</td>\n",
       "      <td>...</td>\n",
       "      <td>...</td>\n",
       "      <td>...</td>\n",
       "      <td>...</td>\n",
       "      <td>...</td>\n",
       "      <td>...</td>\n",
       "      <td>...</td>\n",
       "      <td>...</td>\n",
       "      <td>...</td>\n",
       "      <td>...</td>\n",
       "      <td>...</td>\n",
       "      <td>...</td>\n",
       "    </tr>\n",
       "    <tr>\n",
       "      <th>233149</th>\n",
       "      <td>63213</td>\n",
       "      <td>105405</td>\n",
       "      <td>Salaried</td>\n",
       "      <td>0</td>\n",
       "      <td>735</td>\n",
       "      <td>4</td>\n",
       "      <td>3</td>\n",
       "      <td>0</td>\n",
       "      <td>390443</td>\n",
       "      <td>416133</td>\n",
       "      <td>...</td>\n",
       "      <td>4084</td>\n",
       "      <td>0</td>\n",
       "      <td>0</td>\n",
       "      <td>0</td>\n",
       "      <td>0</td>\n",
       "      <td>0</td>\n",
       "      <td>12394</td>\n",
       "      <td>1145</td>\n",
       "      <td>635</td>\n",
       "      <td>1185</td>\n",
       "    </tr>\n",
       "    <tr>\n",
       "      <th>233150</th>\n",
       "      <td>73651</td>\n",
       "      <td>100600</td>\n",
       "      <td>Self employed</td>\n",
       "      <td>0</td>\n",
       "      <td>825</td>\n",
       "      <td>1</td>\n",
       "      <td>0</td>\n",
       "      <td>0</td>\n",
       "      <td>0</td>\n",
       "      <td>0</td>\n",
       "      <td>...</td>\n",
       "      <td>1565</td>\n",
       "      <td>0</td>\n",
       "      <td>0</td>\n",
       "      <td>0</td>\n",
       "      <td>0</td>\n",
       "      <td>0</td>\n",
       "      <td>12269</td>\n",
       "      <td>1148</td>\n",
       "      <td>180</td>\n",
       "      <td>180</td>\n",
       "    </tr>\n",
       "    <tr>\n",
       "      <th>233151</th>\n",
       "      <td>33484</td>\n",
       "      <td>71212</td>\n",
       "      <td>Salaried</td>\n",
       "      <td>0</td>\n",
       "      <td>0</td>\n",
       "      <td>0</td>\n",
       "      <td>0</td>\n",
       "      <td>0</td>\n",
       "      <td>0</td>\n",
       "      <td>0</td>\n",
       "      <td>...</td>\n",
       "      <td>0</td>\n",
       "      <td>0</td>\n",
       "      <td>0</td>\n",
       "      <td>0</td>\n",
       "      <td>0</td>\n",
       "      <td>0</td>\n",
       "      <td>16779</td>\n",
       "      <td>1147</td>\n",
       "      <td>0</td>\n",
       "      <td>0</td>\n",
       "    </tr>\n",
       "    <tr>\n",
       "      <th>233152</th>\n",
       "      <td>34259</td>\n",
       "      <td>73286</td>\n",
       "      <td>Salaried</td>\n",
       "      <td>0</td>\n",
       "      <td>0</td>\n",
       "      <td>0</td>\n",
       "      <td>0</td>\n",
       "      <td>0</td>\n",
       "      <td>0</td>\n",
       "      <td>0</td>\n",
       "      <td>...</td>\n",
       "      <td>0</td>\n",
       "      <td>0</td>\n",
       "      <td>0</td>\n",
       "      <td>0</td>\n",
       "      <td>0</td>\n",
       "      <td>0</td>\n",
       "      <td>10125</td>\n",
       "      <td>1172</td>\n",
       "      <td>0</td>\n",
       "      <td>0</td>\n",
       "    </tr>\n",
       "    <tr>\n",
       "      <th>233153</th>\n",
       "      <td>75751</td>\n",
       "      <td>116009</td>\n",
       "      <td>Salaried</td>\n",
       "      <td>0</td>\n",
       "      <td>0</td>\n",
       "      <td>0</td>\n",
       "      <td>0</td>\n",
       "      <td>0</td>\n",
       "      <td>0</td>\n",
       "      <td>0</td>\n",
       "      <td>...</td>\n",
       "      <td>0</td>\n",
       "      <td>0</td>\n",
       "      <td>0</td>\n",
       "      <td>0</td>\n",
       "      <td>0</td>\n",
       "      <td>0</td>\n",
       "      <td>13814</td>\n",
       "      <td>1144</td>\n",
       "      <td>0</td>\n",
       "      <td>0</td>\n",
       "    </tr>\n",
       "  </tbody>\n",
       "</table>\n",
       "<p>233154 rows × 27 columns</p>\n",
       "</div>"
      ],
      "text/plain": [
       "        DISBURSED_AMOUNT  ASSET_COST EMPLOYMENT_TYPE  DRIVING_FLAG  \\\n",
       "0                  50578       58400        Salaried             0   \n",
       "1                  47145       65550   Self employed             0   \n",
       "2                  53278       61360   Self employed             0   \n",
       "3                  57513       66113   Self employed             0   \n",
       "4                  52378       60300   Self employed             0   \n",
       "...                  ...         ...             ...           ...   \n",
       "233149             63213      105405        Salaried             0   \n",
       "233150             73651      100600   Self employed             0   \n",
       "233151             33484       71212        Salaried             0   \n",
       "233152             34259       73286        Salaried             0   \n",
       "233153             75751      116009        Salaried             0   \n",
       "\n",
       "        PERFORM_CNS_SCORE  PRI_NO_OF_ACCTS  PRI_ACTIVE_ACCTS  \\\n",
       "0                       0                0                 0   \n",
       "1                     598                1                 1   \n",
       "2                       0                0                 0   \n",
       "3                     305                3                 0   \n",
       "4                       0                0                 0   \n",
       "...                   ...              ...               ...   \n",
       "233149                735                4                 3   \n",
       "233150                825                1                 0   \n",
       "233151                  0                0                 0   \n",
       "233152                  0                0                 0   \n",
       "233153                  0                0                 0   \n",
       "\n",
       "        PRI_OVERDUE_ACCTS  PRI_CURRENT_BALANCE  PRI_SANCTIONED_AMOUNT  ...  \\\n",
       "0                       0                    0                      0  ...   \n",
       "1                       1                27600                  50200  ...   \n",
       "2                       0                    0                      0  ...   \n",
       "3                       0                    0                      0  ...   \n",
       "4                       0                    0                      0  ...   \n",
       "...                   ...                  ...                    ...  ...   \n",
       "233149                  0               390443                 416133  ...   \n",
       "233150                  0                    0                      0  ...   \n",
       "233151                  0                    0                      0  ...   \n",
       "233152                  0                    0                      0  ...   \n",
       "233153                  0                    0                      0  ...   \n",
       "\n",
       "        PRIMARY_INSTAL_AMT  SEC_INSTAL_AMT  NEW_ACCTS_IN_LAST_SIX_MONTHS  \\\n",
       "0                        0               0                             0   \n",
       "1                     1991               0                             0   \n",
       "2                        0               0                             0   \n",
       "3                       31               0                             0   \n",
       "4                        0               0                             0   \n",
       "...                    ...             ...                           ...   \n",
       "233149                4084               0                             0   \n",
       "233150                1565               0                             0   \n",
       "233151                   0               0                             0   \n",
       "233152                   0               0                             0   \n",
       "233153                   0               0                             0   \n",
       "\n",
       "        DELINQUENT_ACCTS_IN_LAST_SIX_MONTHS  NO_OF_INQUIRIES  LOAN_DEFAULT  \\\n",
       "0                                         0                0             0   \n",
       "1                                         1                0             1   \n",
       "2                                         0                0             0   \n",
       "3                                         0                1             1   \n",
       "4                                         0                1             1   \n",
       "...                                     ...              ...           ...   \n",
       "233149                                    0                0             0   \n",
       "233150                                    0                0             0   \n",
       "233151                                    0                0             0   \n",
       "233152                                    0                0             0   \n",
       "233153                                    0                0             0   \n",
       "\n",
       "        LOANEE_DOB_DAYS  DISBURSAL_DATE_DAYS  AVERAGE_ACCT_AGE_DAYS  \\\n",
       "0                 13862                 1377                      0   \n",
       "1                 13285                 1175                    695   \n",
       "2                 13261                 1436                      0   \n",
       "3                 10211                 1145                    240   \n",
       "4                 16164                 1175                      0   \n",
       "...                 ...                  ...                    ...   \n",
       "233149            12394                 1145                    635   \n",
       "233150            12269                 1148                    180   \n",
       "233151            16779                 1147                      0   \n",
       "233152            10125                 1172                      0   \n",
       "233153            13814                 1144                      0   \n",
       "\n",
       "        CREDIT_HISTORY_LENGTH_DAYS  \n",
       "0                                0  \n",
       "1                              695  \n",
       "2                                0  \n",
       "3                              455  \n",
       "4                                0  \n",
       "...                            ...  \n",
       "233149                        1185  \n",
       "233150                         180  \n",
       "233151                           0  \n",
       "233152                           0  \n",
       "233153                           0  \n",
       "\n",
       "[233154 rows x 27 columns]"
      ]
     },
     "execution_count": 11,
     "metadata": {},
     "output_type": "execute_result"
    }
   ],
   "source": [
    "df"
   ]
  },
  {
   "cell_type": "markdown",
   "id": "7a5a9f30",
   "metadata": {},
   "source": [
    "## Outlier exploration and handling"
   ]
  },
  {
   "cell_type": "code",
   "execution_count": 12,
   "id": "574dfe9b",
   "metadata": {},
   "outputs": [],
   "source": [
    "numerical = df.select_dtypes(exclude=object)"
   ]
  },
  {
   "cell_type": "code",
   "execution_count": 13,
   "id": "73c96d83",
   "metadata": {},
   "outputs": [
    {
     "name": "stdout",
     "output_type": "stream",
     "text": [
      "DISBURSED_AMOUNT (27243.0, 80315.0)\n",
      "ASSET_COST (45489.875, 99428.875)\n",
      "DRIVING_FLAG (0.0, 0.0)\n",
      "PERFORM_CNS_SCORE (-1017.0, 1695.0)\n",
      "PRI_NO_OF_ACCTS (-4.5, 7.5)\n",
      "PRI_ACTIVE_ACCTS (-1.5, 2.5)\n",
      "PRI_OVERDUE_ACCTS (0.0, 0.0)\n",
      "PRI_CURRENT_BALANCE (-52509.75, 87516.25)\n",
      "PRI_SANCTIONED_AMOUNT (-93750.0, 156250.0)\n",
      "PRI_DISBURSED_AMOUNT (-91200.0, 152000.0)\n",
      "SEC_NO_OF_ACCTS (0.0, 0.0)\n",
      "SEC_ACTIVE_ACCTS (0.0, 0.0)\n",
      "SEC_OVERDUE_ACCTS (0.0, 0.0)\n",
      "SEC_CURRENT_BALANCE (0.0, 0.0)\n",
      "SEC_SANCTIONED_AMOUNT (0.0, 0.0)\n",
      "SEC_DISBURSED_AMOUNT (0.0, 0.0)\n",
      "PRIMARY_INSTAL_AMT (-2998.5, 4997.5)\n",
      "SEC_INSTAL_AMT (0.0, 0.0)\n",
      "NEW_ACCTS_IN_LAST_SIX_MONTHS (0.0, 0.0)\n",
      "DELINQUENT_ACCTS_IN_LAST_SIX_MONTHS (0.0, 0.0)\n",
      "NO_OF_INQUIRIES (0.0, 0.0)\n",
      "LOAN_DEFAULT (0.0, 0.0)\n",
      "LOANEE_DOB_DAYS (2529.0, 24601.0)\n",
      "DISBURSAL_DATE_DAYS (1059.5, 1295.5)\n",
      "AVERAGE_ACCT_AGE_DAYS (-592.5, 987.5)\n",
      "CREDIT_HISTORY_LENGTH_DAYS (-1095.0, 1825.0)\n"
     ]
    }
   ],
   "source": [
    "def outlier_checker(df, col):\n",
    "    q1 = df[col].quantile(0.25)\n",
    "    q3 = df[col].quantile(0.75)\n",
    "    IQR = q3 - q1\n",
    "    LL = q1 - 1.5 * IQR\n",
    "    UL = q3 + 1.5 * IQR\n",
    "    return LL, UL\n",
    "\n",
    "for i in numerical.columns:\n",
    "    print(i, outlier_checker(df, i))"
   ]
  },
  {
   "cell_type": "code",
   "execution_count": 14,
   "id": "0b7fb6ea",
   "metadata": {
    "scrolled": false
   },
   "outputs": [],
   "source": [
    "def boxplot_plot(df, col):\n",
    "    plt.boxplot(x=col, vert=False, data=df)\n",
    "    plt.show()"
   ]
  },
  {
   "cell_type": "code",
   "execution_count": 15,
   "id": "a6db8263",
   "metadata": {},
   "outputs": [
    {
     "name": "stdout",
     "output_type": "stream",
     "text": [
      "DISBURSED_AMOUNT\n"
     ]
    },
    {
     "data": {
      "image/png": "[encoded data removed]",
      "text/plain": [
       "<Figure size 432x288 with 1 Axes>"
      ]
     },
     "metadata": {
      "needs_background": "light"
     },
     "output_type": "display_data"
    },
    {
     "name": "stdout",
     "output_type": "stream",
     "text": [
      "ASSET_COST\n"
     ]
    },
    {
     "data": {
      "image/png": "[encoded data removed]",
      "text/plain": [
       "<Figure size 432x288 with 1 Axes>"
      ]
     },
     "metadata": {
      "needs_background": "light"
     },
     "output_type": "display_data"
    },
    {
     "name": "stdout",
     "output_type": "stream",
     "text": [
      "DRIVING_FLAG\n"
     ]
    },
    {
     "data": {
      "image/png": "[encoded data removed]",
      "text/plain": [
       "<Figure size 432x288 with 1 Axes>"
      ]
     },
     "metadata": {
      "needs_background": "light"
     },
     "output_type": "display_data"
    },
    {
     "name": "stdout",
     "output_type": "stream",
     "text": [
      "PERFORM_CNS_SCORE\n"
     ]
    },
    {
     "data": {
      "image/png": "[encoded data removed]",
      "text/plain": [
       "<Figure size 432x288 with 1 Axes>"
      ]
     },
     "metadata": {
      "needs_background": "light"
     },
     "output_type": "display_data"
    },
    {
     "name": "stdout",
     "output_type": "stream",
     "text": [
      "PRI_NO_OF_ACCTS\n"
     ]
    },
    {
     "data": {
      "image/png": "[encoded data removed]",
      "text/plain": [
       "<Figure size 432x288 with 1 Axes>"
      ]
     },
     "metadata": {
      "needs_background": "light"
     },
     "output_type": "display_data"
    },
    {
     "name": "stdout",
     "output_type": "stream",
     "text": [
      "PRI_ACTIVE_ACCTS\n"
     ]
    },
    {
     "data": {
      "image/png": "[encoded data removed]",
      "text/plain": [
       "<Figure size 432x288 with 1 Axes>"
      ]
     },
     "metadata": {
      "needs_background": "light"
     },
     "output_type": "display_data"
    },
    {
     "name": "stdout",
     "output_type": "stream",
     "text": [
      "PRI_OVERDUE_ACCTS\n"
     ]
    },
    {
     "data": {
      "image/png": "[encoded data removed]",
      "text/plain": [
       "<Figure size 432x288 with 1 Axes>"
      ]
     },
     "metadata": {
      "needs_background": "light"
     },
     "output_type": "display_data"
    },
    {
     "name": "stdout",
     "output_type": "stream",
     "text": [
      "PRI_CURRENT_BALANCE\n"
     ]
    },
    {
     "data": {
      "image/png": "[encoded data removed]",
      "text/plain": [
       "<Figure size 432x288 with 1 Axes>"
      ]
     },
     "metadata": {
      "needs_background": "light"
     },
     "output_type": "display_data"
    },
    {
     "name": "stdout",
     "output_type": "stream",
     "text": [
      "PRI_SANCTIONED_AMOUNT\n"
     ]
    },
    {
     "data": {
      "image/png": "[encoded data removed]",
      "text/plain": [
       "<Figure size 432x288 with 1 Axes>"
      ]
     },
     "metadata": {
      "needs_background": "light"
     },
     "output_type": "display_data"
    },
    {
     "name": "stdout",
     "output_type": "stream",
     "text": [
      "PRI_DISBURSED_AMOUNT\n"
     ]
    },
    {
     "data": {
      "image/png": "[encoded data removed]",
      "text/plain": [
       "<Figure size 432x288 with 1 Axes>"
      ]
     },
     "metadata": {
      "needs_background": "light"
     },
     "output_type": "display_data"
    },
    {
     "name": "stdout",
     "output_type": "stream",
     "text": [
      "SEC_NO_OF_ACCTS\n"
     ]
    },
    {
     "data": {
      "image/png": "[encoded data removed]",
      "text/plain": [
       "<Figure size 432x288 with 1 Axes>"
      ]
     },
     "metadata": {
      "needs_background": "light"
     },
     "output_type": "display_data"
    },
    {
     "name": "stdout",
     "output_type": "stream",
     "text": [
      "SEC_ACTIVE_ACCTS\n"
     ]
    },
    {
     "data": {
      "image/png": "[encoded data removed]",
      "text/plain": [
       "<Figure size 432x288 with 1 Axes>"
      ]
     },
     "metadata": {
      "needs_background": "light"
     },
     "output_type": "display_data"
    },
    {
     "name": "stdout",
     "output_type": "stream",
     "text": [
      "SEC_OVERDUE_ACCTS\n"
     ]
    },
    {
     "data": {
      "image/png": "[encoded data removed]",
      "text/plain": [
       "<Figure size 432x288 with 1 Axes>"
      ]
     },
     "metadata": {
      "needs_background": "light"
     },
     "output_type": "display_data"
    },
    {
     "name": "stdout",
     "output_type": "stream",
     "text": [
      "SEC_CURRENT_BALANCE\n"
     ]
    },
    {
     "data": {
      "image/png": "[encoded data removed]",
      "text/plain": [
       "<Figure size 432x288 with 1 Axes>"
      ]
     },
     "metadata": {
      "needs_background": "light"
     },
     "output_type": "display_data"
    },
    {
     "name": "stdout",
     "output_type": "stream",
     "text": [
      "SEC_SANCTIONED_AMOUNT\n"
     ]
    },
    {
     "data": {
      "image/png": "[encoded data removed]",
      "text/plain": [
       "<Figure size 432x288 with 1 Axes>"
      ]
     },
     "metadata": {
      "needs_background": "light"
     },
     "output_type": "display_data"
    },
    {
     "name": "stdout",
     "output_type": "stream",
     "text": [
      "SEC_DISBURSED_AMOUNT\n"
     ]
    },
    {
     "data": {
      "image/png": "[encoded data removed]",
      "text/plain": [
       "<Figure size 432x288 with 1 Axes>"
      ]
     },
     "metadata": {
      "needs_background": "light"
     },
     "output_type": "display_data"
    },
    {
     "name": "stdout",
     "output_type": "stream",
     "text": [
      "PRIMARY_INSTAL_AMT\n"
     ]
    },
    {
     "data": {
      "image/png": "[encoded data removed]",
      "text/plain": [
       "<Figure size 432x288 with 1 Axes>"
      ]
     },
     "metadata": {
      "needs_background": "light"
     },
     "output_type": "display_data"
    },
    {
     "name": "stdout",
     "output_type": "stream",
     "text": [
      "SEC_INSTAL_AMT\n"
     ]
    },
    {
     "data": {
      "image/png": "[encoded data removed]",
      "text/plain": [
       "<Figure size 432x288 with 1 Axes>"
      ]
     },
     "metadata": {
      "needs_background": "light"
     },
     "output_type": "display_data"
    },
    {
     "name": "stdout",
     "output_type": "stream",
     "text": [
      "NEW_ACCTS_IN_LAST_SIX_MONTHS\n"
     ]
    },
    {
     "data": {
      "image/png": "[encoded data removed]",
      "text/plain": [
       "<Figure size 432x288 with 1 Axes>"
      ]
     },
     "metadata": {
      "needs_background": "light"
     },
     "output_type": "display_data"
    },
    {
     "name": "stdout",
     "output_type": "stream",
     "text": [
      "DELINQUENT_ACCTS_IN_LAST_SIX_MONTHS\n"
     ]
    },
    {
     "data": {
      "image/png": "[encoded data removed]",
      "text/plain": [
       "<Figure size 432x288 with 1 Axes>"
      ]
     },
     "metadata": {
      "needs_background": "light"
     },
     "output_type": "display_data"
    },
    {
     "name": "stdout",
     "output_type": "stream",
     "text": [
      "NO_OF_INQUIRIES\n"
     ]
    },
    {
     "data": {
      "image/png": "[encoded data removed]",
      "text/plain": [
       "<Figure size 432x288 with 1 Axes>"
      ]
     },
     "metadata": {
      "needs_background": "light"
     },
     "output_type": "display_data"
    },
    {
     "name": "stdout",
     "output_type": "stream",
     "text": [
      "LOAN_DEFAULT\n"
     ]
    },
    {
     "data": {
      "image/png": "[encoded data removed]",
      "text/plain": [
       "<Figure size 432x288 with 1 Axes>"
      ]
     },
     "metadata": {
      "needs_background": "light"
     },
     "output_type": "display_data"
    },
    {
     "name": "stdout",
     "output_type": "stream",
     "text": [
      "LOANEE_DOB_DAYS\n"
     ]
    },
    {
     "data": {
      "image/png": "[encoded data removed]",
      "text/plain": [
       "<Figure size 432x288 with 1 Axes>"
      ]
     },
     "metadata": {
      "needs_background": "light"
     },
     "output_type": "display_data"
    },
    {
     "name": "stdout",
     "output_type": "stream",
     "text": [
      "DISBURSAL_DATE_DAYS\n"
     ]
    },
    {
     "data": {
      "image/png": "[encoded data removed]",
      "text/plain": [
       "<Figure size 432x288 with 1 Axes>"
      ]
     },
     "metadata": {
      "needs_background": "light"
     },
     "output_type": "display_data"
    },
    {
     "name": "stdout",
     "output_type": "stream",
     "text": [
      "AVERAGE_ACCT_AGE_DAYS\n"
     ]
    },
    {
     "data": {
      "image/png": "[encoded data removed]",
      "text/plain": [
       "<Figure size 432x288 with 1 Axes>"
      ]
     },
     "metadata": {
      "needs_background": "light"
     },
     "output_type": "display_data"
    },
    {
     "name": "stdout",
     "output_type": "stream",
     "text": [
      "CREDIT_HISTORY_LENGTH_DAYS\n"
     ]
    },
    {
     "data": {
      "image/png": "[encoded data removed]",
      "text/plain": [
       "<Figure size 432x288 with 1 Axes>"
      ]
     },
     "metadata": {
      "needs_background": "light"
     },
     "output_type": "display_data"
    }
   ],
   "source": [
    "for i in numerical.columns:\n",
    "    print(i)\n",
    "    boxplot_plot(df, i)"
   ]
  },
  {
   "cell_type": "code",
   "execution_count": 20,
   "id": "f4991f09",
   "metadata": {},
   "outputs": [],
   "source": [
    "# def outlier_remover(df, col):\n",
    "#     q1 = df[col].quantile(0.25)\n",
    "#     q3 = df[col].quantile(0.75)\n",
    "#     IQR = q3 - q1\n",
    "#     LL = q1 - 1.5 * IQR\n",
    "#     UL = q3 + 1.5 * IQR\n",
    "#     df = df[df[col] < UL]\n",
    "#     df = df[df[col] > LL]\n",
    "#     return df"
   ]
  },
  {
   "cell_type": "code",
   "execution_count": 16,
   "id": "37c2044d",
   "metadata": {},
   "outputs": [],
   "source": [
    "# Hard remove outliers\n",
    "\n",
    "# remove outlier of disbusred\n",
    "df.drop(index=df[df['PRI_DISBURSED_AMOUNT'] > 7000000].index, axis=0, inplace=True)\n",
    "\n",
    "# remove outliers of NO_OF_ACCTS that are greater than 7.5 (total loans at the time of disbursement)\n",
    "df.drop(index=df[df['PRI_NO_OF_ACCTS'] > 10].index, axis=0, inplace=True)\n",
    "\n",
    "# remove outliers of ACTIVE_ACCTS greater than 5 (active loans at the time of disburesment)\n",
    "df.drop(index=df[df['PRI_ACTIVE_ACCTS'] > 5].index, axis=0, inplace=True)"
   ]
  },
  {
   "cell_type": "code",
   "execution_count": 17,
   "id": "c772b3c3",
   "metadata": {
    "scrolled": true
   },
   "outputs": [
    {
     "data": {
      "image/png": "[encoded data removed]",
      "text/plain": [
       "<Figure size 432x288 with 1 Axes>"
      ]
     },
     "metadata": {
      "needs_background": "light"
     },
     "output_type": "display_data"
    }
   ],
   "source": [
    "plt.boxplot(x='PRI_NO_OF_ACCTS', data=df, vert=False);"
   ]
  },
  {
   "cell_type": "code",
   "execution_count": 18,
   "id": "78e16dfb",
   "metadata": {
    "scrolled": false
   },
   "outputs": [
    {
     "data": {
      "image/png": "[encoded data removed]",
      "text/plain": [
       "<Figure size 432x288 with 1 Axes>"
      ]
     },
     "metadata": {
      "needs_background": "light"
     },
     "output_type": "display_data"
    }
   ],
   "source": [
    "plt.boxplot(x='PRI_ACTIVE_ACCTS', data=df, vert=False);"
   ]
  },
  {
   "cell_type": "code",
   "execution_count": 19,
   "id": "0a0e717f",
   "metadata": {},
   "outputs": [
    {
     "data": {
      "text/plain": [
       "(217506, 27)"
      ]
     },
     "execution_count": 19,
     "metadata": {},
     "output_type": "execute_result"
    }
   ],
   "source": [
    "df.shape"
   ]
  },
  {
   "cell_type": "markdown",
   "id": "5316a42e",
   "metadata": {},
   "source": [
    "## Check nulls"
   ]
  },
  {
   "cell_type": "code",
   "execution_count": 20,
   "id": "06a604f4",
   "metadata": {},
   "outputs": [
    {
     "data": {
      "text/plain": [
       "DISBURSED_AMOUNT                       0.00000\n",
       "ASSET_COST                             0.00000\n",
       "EMPLOYMENT_TYPE                        3.33554\n",
       "DRIVING_FLAG                           0.00000\n",
       "PERFORM_CNS_SCORE                      0.00000\n",
       "PRI_NO_OF_ACCTS                        0.00000\n",
       "PRI_ACTIVE_ACCTS                       0.00000\n",
       "PRI_OVERDUE_ACCTS                      0.00000\n",
       "PRI_CURRENT_BALANCE                    0.00000\n",
       "PRI_SANCTIONED_AMOUNT                  0.00000\n",
       "PRI_DISBURSED_AMOUNT                   0.00000\n",
       "SEC_NO_OF_ACCTS                        0.00000\n",
       "SEC_ACTIVE_ACCTS                       0.00000\n",
       "SEC_OVERDUE_ACCTS                      0.00000\n",
       "SEC_CURRENT_BALANCE                    0.00000\n",
       "SEC_SANCTIONED_AMOUNT                  0.00000\n",
       "SEC_DISBURSED_AMOUNT                   0.00000\n",
       "PRIMARY_INSTAL_AMT                     0.00000\n",
       "SEC_INSTAL_AMT                         0.00000\n",
       "NEW_ACCTS_IN_LAST_SIX_MONTHS           0.00000\n",
       "DELINQUENT_ACCTS_IN_LAST_SIX_MONTHS    0.00000\n",
       "NO_OF_INQUIRIES                        0.00000\n",
       "LOAN_DEFAULT                           0.00000\n",
       "LOANEE_DOB_DAYS                        0.00000\n",
       "DISBURSAL_DATE_DAYS                    0.00000\n",
       "AVERAGE_ACCT_AGE_DAYS                  0.00000\n",
       "CREDIT_HISTORY_LENGTH_DAYS             0.00000\n",
       "dtype: float64"
      ]
     },
     "execution_count": 20,
     "metadata": {},
     "output_type": "execute_result"
    }
   ],
   "source": [
    "# check null percentage\n",
    "df.isna().sum()/len(df)*100"
   ]
  },
  {
   "cell_type": "code",
   "execution_count": 21,
   "id": "d44802d9",
   "metadata": {},
   "outputs": [],
   "source": [
    "# fill nulls with mode\n",
    "emp_mode = df['EMPLOYMENT_TYPE'].mode()\n",
    "df['EMPLOYMENT_TYPE'].fillna(emp_mode[0], inplace=True)"
   ]
  },
  {
   "cell_type": "code",
   "execution_count": 22,
   "id": "a79a9955",
   "metadata": {},
   "outputs": [
    {
     "data": {
      "text/plain": [
       "0.0"
      ]
     },
     "execution_count": 22,
     "metadata": {},
     "output_type": "execute_result"
    }
   ],
   "source": [
    "df['EMPLOYMENT_TYPE'].isna().sum()/len(df)*100"
   ]
  },
  {
   "cell_type": "markdown",
   "id": "bc8ff80a",
   "metadata": {},
   "source": [
    "## Feature Engineering"
   ]
  },
  {
   "cell_type": "code",
   "execution_count": 23,
   "id": "df7c0ed2",
   "metadata": {},
   "outputs": [
    {
     "data": {
      "text/plain": [
       "0           0\n",
       "1         598\n",
       "2           0\n",
       "3         305\n",
       "4           0\n",
       "         ... \n",
       "233149    735\n",
       "233150    825\n",
       "233151      0\n",
       "233152      0\n",
       "233153      0\n",
       "Name: PERFORM_CNS_SCORE, Length: 217506, dtype: int64"
      ]
     },
     "execution_count": 23,
     "metadata": {},
     "output_type": "execute_result"
    }
   ],
   "source": [
    "df['PERFORM_CNS_SCORE']"
   ]
  },
  {
   "cell_type": "code",
   "execution_count": 24,
   "id": "48cca22f",
   "metadata": {},
   "outputs": [
    {
     "data": {
      "text/html": [
       "<div>\n",
       "<style scoped>\n",
       "    .dataframe tbody tr th:only-of-type {\n",
       "        vertical-align: middle;\n",
       "    }\n",
       "\n",
       "    .dataframe tbody tr th {\n",
       "        vertical-align: top;\n",
       "    }\n",
       "\n",
       "    .dataframe thead th {\n",
       "        text-align: right;\n",
       "    }\n",
       "</style>\n",
       "<table border=\"1\" class=\"dataframe\">\n",
       "  <thead>\n",
       "    <tr style=\"text-align: right;\">\n",
       "      <th></th>\n",
       "      <th>min</th>\n",
       "      <th>max</th>\n",
       "      <th>count</th>\n",
       "    </tr>\n",
       "    <tr>\n",
       "      <th>PERFORM_CNS_DESC</th>\n",
       "      <th></th>\n",
       "      <th></th>\n",
       "      <th></th>\n",
       "    </tr>\n",
       "  </thead>\n",
       "  <tbody>\n",
       "    <tr>\n",
       "      <th>Very low</th>\n",
       "      <td>0</td>\n",
       "      <td>18</td>\n",
       "      <td>129661</td>\n",
       "    </tr>\n",
       "    <tr>\n",
       "      <th>Low</th>\n",
       "      <td>300</td>\n",
       "      <td>356</td>\n",
       "      <td>7878</td>\n",
       "    </tr>\n",
       "    <tr>\n",
       "      <th>Medium</th>\n",
       "      <td>357</td>\n",
       "      <td>534</td>\n",
       "      <td>6638</td>\n",
       "    </tr>\n",
       "    <tr>\n",
       "      <th>High</th>\n",
       "      <td>535</td>\n",
       "      <td>712</td>\n",
       "      <td>32102</td>\n",
       "    </tr>\n",
       "    <tr>\n",
       "      <th>Very high</th>\n",
       "      <td>713</td>\n",
       "      <td>890</td>\n",
       "      <td>41227</td>\n",
       "    </tr>\n",
       "  </tbody>\n",
       "</table>\n",
       "</div>"
      ],
      "text/plain": [
       "                  min  max   count\n",
       "PERFORM_CNS_DESC                  \n",
       "Very low            0   18  129661\n",
       "Low               300  356    7878\n",
       "Medium            357  534    6638\n",
       "High              535  712   32102\n",
       "Very high         713  890   41227"
      ]
     },
     "execution_count": 24,
     "metadata": {},
     "output_type": "execute_result"
    }
   ],
   "source": [
    "# binning PERFORM_CNS_SCORE to 5 bins, (very_low, low, medium, high, very_high)\n",
    "labels = [\"Very low\", \"Low\", \"Medium\", \"High\", \"Very high\"]\n",
    "df['PERFORM_CNS_DESC'] = pd.cut(df['PERFORM_CNS_SCORE'], 5, labels=labels)\n",
    "df.groupby('PERFORM_CNS_DESC')['PERFORM_CNS_SCORE'].agg(['min', 'max', 'count'])"
   ]
  },
  {
   "cell_type": "markdown",
   "id": "78fbe845",
   "metadata": {},
   "source": [
    "> Verify binning"
   ]
  },
  {
   "cell_type": "code",
   "execution_count": 25,
   "id": "4d4ec17b",
   "metadata": {},
   "outputs": [
    {
     "data": {
      "text/plain": [
       "18"
      ]
     },
     "execution_count": 25,
     "metadata": {},
     "output_type": "execute_result"
    }
   ],
   "source": [
    "df[df['PERFORM_CNS_SCORE'] < df['PERFORM_CNS_SCORE'].max()/5]['PERFORM_CNS_SCORE'].max()"
   ]
  },
  {
   "cell_type": "code",
   "execution_count": 26,
   "id": "240ae045",
   "metadata": {},
   "outputs": [
    {
     "data": {
      "text/plain": [
       "355"
      ]
     },
     "execution_count": 26,
     "metadata": {},
     "output_type": "execute_result"
    }
   ],
   "source": [
    "df[df['PERFORM_CNS_SCORE'] < (df['PERFORM_CNS_SCORE'].max()/5)*2]['PERFORM_CNS_SCORE'].max()"
   ]
  },
  {
   "cell_type": "code",
   "execution_count": 27,
   "id": "271c3f52",
   "metadata": {},
   "outputs": [
    {
     "data": {
      "text/plain": [
       "533"
      ]
     },
     "execution_count": 27,
     "metadata": {},
     "output_type": "execute_result"
    }
   ],
   "source": [
    "df[df['PERFORM_CNS_SCORE'] < (df['PERFORM_CNS_SCORE'].max()/5)*3]['PERFORM_CNS_SCORE'].max()"
   ]
  },
  {
   "cell_type": "code",
   "execution_count": 28,
   "id": "eaeebf4d",
   "metadata": {},
   "outputs": [
    {
     "data": {
      "text/plain": [
       "711"
      ]
     },
     "execution_count": 28,
     "metadata": {},
     "output_type": "execute_result"
    }
   ],
   "source": [
    "df[df['PERFORM_CNS_SCORE'] < (df['PERFORM_CNS_SCORE'].max()/5)*4]['PERFORM_CNS_SCORE'].max()"
   ]
  },
  {
   "cell_type": "code",
   "execution_count": 29,
   "id": "e68ab759",
   "metadata": {},
   "outputs": [],
   "source": [
    "df.drop(columns='PERFORM_CNS_SCORE', axis=1, inplace=True)"
   ]
  },
  {
   "cell_type": "code",
   "execution_count": 30,
   "id": "e9b8395a",
   "metadata": {},
   "outputs": [
    {
     "data": {
      "text/plain": [
       "(217506, 27)"
      ]
     },
     "execution_count": 30,
     "metadata": {},
     "output_type": "execute_result"
    }
   ],
   "source": [
    "df.shape"
   ]
  },
  {
   "cell_type": "code",
   "execution_count": 31,
   "id": "f646caf4",
   "metadata": {},
   "outputs": [],
   "source": [
    "# Extract new feature called loan to asset ratio (LTA)\n",
    "\n",
    "df['LTA'] = round(df['DISBURSED_AMOUNT']/df['ASSET_COST']*100, 2)"
   ]
  },
  {
   "cell_type": "code",
   "execution_count": 32,
   "id": "0f5e6291",
   "metadata": {},
   "outputs": [
    {
     "data": {
      "text/plain": [
       "(217506, 28)"
      ]
     },
     "execution_count": 32,
     "metadata": {},
     "output_type": "execute_result"
    }
   ],
   "source": [
    "df.shape"
   ]
  },
  {
   "cell_type": "markdown",
   "id": "8d095066",
   "metadata": {},
   "source": [
    "## Convert categorical to dummy variables"
   ]
  },
  {
   "cell_type": "code",
   "execution_count": 33,
   "id": "038410ab",
   "metadata": {
    "scrolled": false
   },
   "outputs": [],
   "source": [
    "# convert dummy variables of EMPLOYMENT_TYPE and PERFORM_CNS_DESC\n",
    "\n",
    "df = pd.get_dummies(df, drop_first=True)"
   ]
  },
  {
   "cell_type": "code",
   "execution_count": 34,
   "id": "e95f6d1b",
   "metadata": {
    "scrolled": false
   },
   "outputs": [
    {
     "data": {
      "text/html": [
       "<div>\n",
       "<style scoped>\n",
       "    .dataframe tbody tr th:only-of-type {\n",
       "        vertical-align: middle;\n",
       "    }\n",
       "\n",
       "    .dataframe tbody tr th {\n",
       "        vertical-align: top;\n",
       "    }\n",
       "\n",
       "    .dataframe thead th {\n",
       "        text-align: right;\n",
       "    }\n",
       "</style>\n",
       "<table border=\"1\" class=\"dataframe\">\n",
       "  <thead>\n",
       "    <tr style=\"text-align: right;\">\n",
       "      <th></th>\n",
       "      <th>DISBURSED_AMOUNT</th>\n",
       "      <th>ASSET_COST</th>\n",
       "      <th>DRIVING_FLAG</th>\n",
       "      <th>PRI_NO_OF_ACCTS</th>\n",
       "      <th>PRI_ACTIVE_ACCTS</th>\n",
       "      <th>PRI_OVERDUE_ACCTS</th>\n",
       "      <th>PRI_CURRENT_BALANCE</th>\n",
       "      <th>PRI_SANCTIONED_AMOUNT</th>\n",
       "      <th>PRI_DISBURSED_AMOUNT</th>\n",
       "      <th>SEC_NO_OF_ACCTS</th>\n",
       "      <th>...</th>\n",
       "      <th>LOANEE_DOB_DAYS</th>\n",
       "      <th>DISBURSAL_DATE_DAYS</th>\n",
       "      <th>AVERAGE_ACCT_AGE_DAYS</th>\n",
       "      <th>CREDIT_HISTORY_LENGTH_DAYS</th>\n",
       "      <th>LTA</th>\n",
       "      <th>EMPLOYMENT_TYPE_Self employed</th>\n",
       "      <th>PERFORM_CNS_DESC_Low</th>\n",
       "      <th>PERFORM_CNS_DESC_Medium</th>\n",
       "      <th>PERFORM_CNS_DESC_High</th>\n",
       "      <th>PERFORM_CNS_DESC_Very high</th>\n",
       "    </tr>\n",
       "  </thead>\n",
       "  <tbody>\n",
       "    <tr>\n",
       "      <th>0</th>\n",
       "      <td>50578</td>\n",
       "      <td>58400</td>\n",
       "      <td>0</td>\n",
       "      <td>0</td>\n",
       "      <td>0</td>\n",
       "      <td>0</td>\n",
       "      <td>0</td>\n",
       "      <td>0</td>\n",
       "      <td>0</td>\n",
       "      <td>0</td>\n",
       "      <td>...</td>\n",
       "      <td>13862</td>\n",
       "      <td>1377</td>\n",
       "      <td>0</td>\n",
       "      <td>0</td>\n",
       "      <td>86.61</td>\n",
       "      <td>0</td>\n",
       "      <td>0</td>\n",
       "      <td>0</td>\n",
       "      <td>0</td>\n",
       "      <td>0</td>\n",
       "    </tr>\n",
       "    <tr>\n",
       "      <th>1</th>\n",
       "      <td>47145</td>\n",
       "      <td>65550</td>\n",
       "      <td>0</td>\n",
       "      <td>1</td>\n",
       "      <td>1</td>\n",
       "      <td>1</td>\n",
       "      <td>27600</td>\n",
       "      <td>50200</td>\n",
       "      <td>50200</td>\n",
       "      <td>0</td>\n",
       "      <td>...</td>\n",
       "      <td>13285</td>\n",
       "      <td>1175</td>\n",
       "      <td>695</td>\n",
       "      <td>695</td>\n",
       "      <td>71.92</td>\n",
       "      <td>1</td>\n",
       "      <td>0</td>\n",
       "      <td>0</td>\n",
       "      <td>1</td>\n",
       "      <td>0</td>\n",
       "    </tr>\n",
       "    <tr>\n",
       "      <th>2</th>\n",
       "      <td>53278</td>\n",
       "      <td>61360</td>\n",
       "      <td>0</td>\n",
       "      <td>0</td>\n",
       "      <td>0</td>\n",
       "      <td>0</td>\n",
       "      <td>0</td>\n",
       "      <td>0</td>\n",
       "      <td>0</td>\n",
       "      <td>0</td>\n",
       "      <td>...</td>\n",
       "      <td>13261</td>\n",
       "      <td>1436</td>\n",
       "      <td>0</td>\n",
       "      <td>0</td>\n",
       "      <td>86.83</td>\n",
       "      <td>1</td>\n",
       "      <td>0</td>\n",
       "      <td>0</td>\n",
       "      <td>0</td>\n",
       "      <td>0</td>\n",
       "    </tr>\n",
       "    <tr>\n",
       "      <th>3</th>\n",
       "      <td>57513</td>\n",
       "      <td>66113</td>\n",
       "      <td>0</td>\n",
       "      <td>3</td>\n",
       "      <td>0</td>\n",
       "      <td>0</td>\n",
       "      <td>0</td>\n",
       "      <td>0</td>\n",
       "      <td>0</td>\n",
       "      <td>0</td>\n",
       "      <td>...</td>\n",
       "      <td>10211</td>\n",
       "      <td>1145</td>\n",
       "      <td>240</td>\n",
       "      <td>455</td>\n",
       "      <td>86.99</td>\n",
       "      <td>1</td>\n",
       "      <td>1</td>\n",
       "      <td>0</td>\n",
       "      <td>0</td>\n",
       "      <td>0</td>\n",
       "    </tr>\n",
       "    <tr>\n",
       "      <th>4</th>\n",
       "      <td>52378</td>\n",
       "      <td>60300</td>\n",
       "      <td>0</td>\n",
       "      <td>0</td>\n",
       "      <td>0</td>\n",
       "      <td>0</td>\n",
       "      <td>0</td>\n",
       "      <td>0</td>\n",
       "      <td>0</td>\n",
       "      <td>0</td>\n",
       "      <td>...</td>\n",
       "      <td>16164</td>\n",
       "      <td>1175</td>\n",
       "      <td>0</td>\n",
       "      <td>0</td>\n",
       "      <td>86.86</td>\n",
       "      <td>1</td>\n",
       "      <td>0</td>\n",
       "      <td>0</td>\n",
       "      <td>0</td>\n",
       "      <td>0</td>\n",
       "    </tr>\n",
       "    <tr>\n",
       "      <th>...</th>\n",
       "      <td>...</td>\n",
       "      <td>...</td>\n",
       "      <td>...</td>\n",
       "      <td>...</td>\n",
       "      <td>...</td>\n",
       "      <td>...</td>\n",
       "      <td>...</td>\n",
       "      <td>...</td>\n",
       "      <td>...</td>\n",
       "      <td>...</td>\n",
       "      <td>...</td>\n",
       "      <td>...</td>\n",
       "      <td>...</td>\n",
       "      <td>...</td>\n",
       "      <td>...</td>\n",
       "      <td>...</td>\n",
       "      <td>...</td>\n",
       "      <td>...</td>\n",
       "      <td>...</td>\n",
       "      <td>...</td>\n",
       "      <td>...</td>\n",
       "    </tr>\n",
       "    <tr>\n",
       "      <th>233149</th>\n",
       "      <td>63213</td>\n",
       "      <td>105405</td>\n",
       "      <td>0</td>\n",
       "      <td>4</td>\n",
       "      <td>3</td>\n",
       "      <td>0</td>\n",
       "      <td>390443</td>\n",
       "      <td>416133</td>\n",
       "      <td>416133</td>\n",
       "      <td>0</td>\n",
       "      <td>...</td>\n",
       "      <td>12394</td>\n",
       "      <td>1145</td>\n",
       "      <td>635</td>\n",
       "      <td>1185</td>\n",
       "      <td>59.97</td>\n",
       "      <td>0</td>\n",
       "      <td>0</td>\n",
       "      <td>0</td>\n",
       "      <td>0</td>\n",
       "      <td>1</td>\n",
       "    </tr>\n",
       "    <tr>\n",
       "      <th>233150</th>\n",
       "      <td>73651</td>\n",
       "      <td>100600</td>\n",
       "      <td>0</td>\n",
       "      <td>1</td>\n",
       "      <td>0</td>\n",
       "      <td>0</td>\n",
       "      <td>0</td>\n",
       "      <td>0</td>\n",
       "      <td>0</td>\n",
       "      <td>0</td>\n",
       "      <td>...</td>\n",
       "      <td>12269</td>\n",
       "      <td>1148</td>\n",
       "      <td>180</td>\n",
       "      <td>180</td>\n",
       "      <td>73.21</td>\n",
       "      <td>1</td>\n",
       "      <td>0</td>\n",
       "      <td>0</td>\n",
       "      <td>0</td>\n",
       "      <td>1</td>\n",
       "    </tr>\n",
       "    <tr>\n",
       "      <th>233151</th>\n",
       "      <td>33484</td>\n",
       "      <td>71212</td>\n",
       "      <td>0</td>\n",
       "      <td>0</td>\n",
       "      <td>0</td>\n",
       "      <td>0</td>\n",
       "      <td>0</td>\n",
       "      <td>0</td>\n",
       "      <td>0</td>\n",
       "      <td>0</td>\n",
       "      <td>...</td>\n",
       "      <td>16779</td>\n",
       "      <td>1147</td>\n",
       "      <td>0</td>\n",
       "      <td>0</td>\n",
       "      <td>47.02</td>\n",
       "      <td>0</td>\n",
       "      <td>0</td>\n",
       "      <td>0</td>\n",
       "      <td>0</td>\n",
       "      <td>0</td>\n",
       "    </tr>\n",
       "    <tr>\n",
       "      <th>233152</th>\n",
       "      <td>34259</td>\n",
       "      <td>73286</td>\n",
       "      <td>0</td>\n",
       "      <td>0</td>\n",
       "      <td>0</td>\n",
       "      <td>0</td>\n",
       "      <td>0</td>\n",
       "      <td>0</td>\n",
       "      <td>0</td>\n",
       "      <td>0</td>\n",
       "      <td>...</td>\n",
       "      <td>10125</td>\n",
       "      <td>1172</td>\n",
       "      <td>0</td>\n",
       "      <td>0</td>\n",
       "      <td>46.75</td>\n",
       "      <td>0</td>\n",
       "      <td>0</td>\n",
       "      <td>0</td>\n",
       "      <td>0</td>\n",
       "      <td>0</td>\n",
       "    </tr>\n",
       "    <tr>\n",
       "      <th>233153</th>\n",
       "      <td>75751</td>\n",
       "      <td>116009</td>\n",
       "      <td>0</td>\n",
       "      <td>0</td>\n",
       "      <td>0</td>\n",
       "      <td>0</td>\n",
       "      <td>0</td>\n",
       "      <td>0</td>\n",
       "      <td>0</td>\n",
       "      <td>0</td>\n",
       "      <td>...</td>\n",
       "      <td>13814</td>\n",
       "      <td>1144</td>\n",
       "      <td>0</td>\n",
       "      <td>0</td>\n",
       "      <td>65.30</td>\n",
       "      <td>0</td>\n",
       "      <td>0</td>\n",
       "      <td>0</td>\n",
       "      <td>0</td>\n",
       "      <td>0</td>\n",
       "    </tr>\n",
       "  </tbody>\n",
       "</table>\n",
       "<p>217506 rows × 31 columns</p>\n",
       "</div>"
      ],
      "text/plain": [
       "        DISBURSED_AMOUNT  ASSET_COST  DRIVING_FLAG  PRI_NO_OF_ACCTS  \\\n",
       "0                  50578       58400             0                0   \n",
       "1                  47145       65550             0                1   \n",
       "2                  53278       61360             0                0   \n",
       "3                  57513       66113             0                3   \n",
       "4                  52378       60300             0                0   \n",
       "...                  ...         ...           ...              ...   \n",
       "233149             63213      105405             0                4   \n",
       "233150             73651      100600             0                1   \n",
       "233151             33484       71212             0                0   \n",
       "233152             34259       73286             0                0   \n",
       "233153             75751      116009             0                0   \n",
       "\n",
       "        PRI_ACTIVE_ACCTS  PRI_OVERDUE_ACCTS  PRI_CURRENT_BALANCE  \\\n",
       "0                      0                  0                    0   \n",
       "1                      1                  1                27600   \n",
       "2                      0                  0                    0   \n",
       "3                      0                  0                    0   \n",
       "4                      0                  0                    0   \n",
       "...                  ...                ...                  ...   \n",
       "233149                 3                  0               390443   \n",
       "233150                 0                  0                    0   \n",
       "233151                 0                  0                    0   \n",
       "233152                 0                  0                    0   \n",
       "233153                 0                  0                    0   \n",
       "\n",
       "        PRI_SANCTIONED_AMOUNT  PRI_DISBURSED_AMOUNT  SEC_NO_OF_ACCTS  ...  \\\n",
       "0                           0                     0                0  ...   \n",
       "1                       50200                 50200                0  ...   \n",
       "2                           0                     0                0  ...   \n",
       "3                           0                     0                0  ...   \n",
       "4                           0                     0                0  ...   \n",
       "...                       ...                   ...              ...  ...   \n",
       "233149                 416133                416133                0  ...   \n",
       "233150                      0                     0                0  ...   \n",
       "233151                      0                     0                0  ...   \n",
       "233152                      0                     0                0  ...   \n",
       "233153                      0                     0                0  ...   \n",
       "\n",
       "        LOANEE_DOB_DAYS  DISBURSAL_DATE_DAYS  AVERAGE_ACCT_AGE_DAYS  \\\n",
       "0                 13862                 1377                      0   \n",
       "1                 13285                 1175                    695   \n",
       "2                 13261                 1436                      0   \n",
       "3                 10211                 1145                    240   \n",
       "4                 16164                 1175                      0   \n",
       "...                 ...                  ...                    ...   \n",
       "233149            12394                 1145                    635   \n",
       "233150            12269                 1148                    180   \n",
       "233151            16779                 1147                      0   \n",
       "233152            10125                 1172                      0   \n",
       "233153            13814                 1144                      0   \n",
       "\n",
       "        CREDIT_HISTORY_LENGTH_DAYS    LTA  EMPLOYMENT_TYPE_Self employed  \\\n",
       "0                                0  86.61                              0   \n",
       "1                              695  71.92                              1   \n",
       "2                                0  86.83                              1   \n",
       "3                              455  86.99                              1   \n",
       "4                                0  86.86                              1   \n",
       "...                            ...    ...                            ...   \n",
       "233149                        1185  59.97                              0   \n",
       "233150                         180  73.21                              1   \n",
       "233151                           0  47.02                              0   \n",
       "233152                           0  46.75                              0   \n",
       "233153                           0  65.30                              0   \n",
       "\n",
       "        PERFORM_CNS_DESC_Low  PERFORM_CNS_DESC_Medium  PERFORM_CNS_DESC_High  \\\n",
       "0                          0                        0                      0   \n",
       "1                          0                        0                      1   \n",
       "2                          0                        0                      0   \n",
       "3                          1                        0                      0   \n",
       "4                          0                        0                      0   \n",
       "...                      ...                      ...                    ...   \n",
       "233149                     0                        0                      0   \n",
       "233150                     0                        0                      0   \n",
       "233151                     0                        0                      0   \n",
       "233152                     0                        0                      0   \n",
       "233153                     0                        0                      0   \n",
       "\n",
       "        PERFORM_CNS_DESC_Very high  \n",
       "0                                0  \n",
       "1                                0  \n",
       "2                                0  \n",
       "3                                0  \n",
       "4                                0  \n",
       "...                            ...  \n",
       "233149                           1  \n",
       "233150                           1  \n",
       "233151                           0  \n",
       "233152                           0  \n",
       "233153                           0  \n",
       "\n",
       "[217506 rows x 31 columns]"
      ]
     },
     "execution_count": 34,
     "metadata": {},
     "output_type": "execute_result"
    }
   ],
   "source": [
    "df"
   ]
  },
  {
   "cell_type": "code",
   "execution_count": 35,
   "id": "40e8df5d",
   "metadata": {},
   "outputs": [
    {
     "data": {
      "text/plain": [
       "(217506, 31)"
      ]
     },
     "execution_count": 35,
     "metadata": {},
     "output_type": "execute_result"
    }
   ],
   "source": [
    "df.shape"
   ]
  },
  {
   "cell_type": "code",
   "execution_count": 36,
   "id": "99866a38",
   "metadata": {},
   "outputs": [],
   "source": [
    "# Export to csv\n",
    "df.to_csv(\"../data/interim/data.csv\", index=False)"
   ]
  },
  {
   "cell_type": "code",
   "execution_count": 42,
   "id": "81b14085",
   "metadata": {},
   "outputs": [
    {
     "data": {
      "text/plain": [
       "<AxesSubplot:>"
      ]
     },
     "execution_count": 42,
     "metadata": {},
     "output_type": "execute_result"
    },
    {
     "data": {
      "image/png": "[encoded data removed]",
      "text/plain": [
       "<Figure size 432x288 with 2 Axes>"
      ]
     },
     "metadata": {
      "needs_background": "light"
     },
     "output_type": "display_data"
    }
   ],
   "source": [
    "sns.heatmap(df.corr(), cmap='rocket', robust=True)"
   ]
  },
  {
   "cell_type": "code",
   "execution_count": null,
   "id": "cf632274",
   "metadata": {},
   "outputs": [],
   "source": []
  }
 ],
 "metadata": {
  "kernelspec": {
   "display_name": "t5",
   "language": "python",
   "name": "t5"
  },
  "language_info": {
   "codemirror_mode": {
    "name": "ipython",
    "version": 3
   },
   "file_extension": ".py",
   "mimetype": "text/x-python",
   "name": "python",
   "nbconvert_exporter": "python",
   "pygments_lexer": "ipython3",
   "version": "3.7.11"
  }
 },
 "nbformat": 4,
 "nbformat_minor": 5
}
