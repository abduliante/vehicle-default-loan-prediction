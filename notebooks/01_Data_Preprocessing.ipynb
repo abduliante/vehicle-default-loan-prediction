{
 "cells": [
  {
   "cell_type": "code",
   "execution_count": 349,
   "id": "ca3e6c0a",
   "metadata": {},
   "outputs": [],
   "source": [
    "import pandas as pd\n",
    "import numpy as np\n",
    "import seaborn as sns\n",
    "import matplotlib.pyplot as plt\n",
    "import datetime as dt\n",
    "%matplotlib inline"
   ]
  },
  {
   "cell_type": "code",
   "execution_count": 350,
   "id": "8ae38557",
   "metadata": {},
   "outputs": [],
   "source": [
    "# csv\n",
    "df = pd.read_csv(\"../data/raw/train.csv\")"
   ]
  },
  {
   "cell_type": "code",
   "execution_count": 351,
   "id": "255d33f0",
   "metadata": {},
   "outputs": [
    {
     "data": {
      "text/plain": [
       "(233154, 41)"
      ]
     },
     "execution_count": 351,
     "metadata": {},
     "output_type": "execute_result"
    }
   ],
   "source": [
    "df.shape"
   ]
  },
  {
   "cell_type": "code",
   "execution_count": 353,
   "id": "ba1bf19b",
   "metadata": {},
   "outputs": [
    {
     "name": "stdout",
     "output_type": "stream",
     "text": [
      "<class 'pandas.core.frame.DataFrame'>\n",
      "RangeIndex: 233154 entries, 0 to 233153\n",
      "Data columns (total 41 columns):\n",
      " #   Column                               Non-Null Count   Dtype  \n",
      "---  ------                               --------------   -----  \n",
      " 0   UNIQUEID                             233154 non-null  int64  \n",
      " 1   DISBURSED_AMOUNT                     233154 non-null  int64  \n",
      " 2   ASSET_COST                           233154 non-null  int64  \n",
      " 3   LTV                                  233154 non-null  float64\n",
      " 4   BRANCH_ID                            233154 non-null  int64  \n",
      " 5   SUPPLIER_ID                          233154 non-null  int64  \n",
      " 6   MANUFACTURER_ID                      233154 non-null  int64  \n",
      " 7   CURRENT_PINCODE_ID                   233154 non-null  int64  \n",
      " 8   DATE_OF_BIRTH                        233154 non-null  object \n",
      " 9   EMPLOYMENT_TYPE                      225493 non-null  object \n",
      " 10  DISBURSAL_DATE                       233154 non-null  object \n",
      " 11  STATE_ID                             233154 non-null  int64  \n",
      " 12  EMPLOYEE_CODE_ID                     233154 non-null  int64  \n",
      " 13  MOBILENO_AVL_FLAG                    233154 non-null  int64  \n",
      " 14  AADHAR_FLAG                          233154 non-null  int64  \n",
      " 15  PAN_FLAG                             233154 non-null  int64  \n",
      " 16  VOTERID_FLAG                         233154 non-null  int64  \n",
      " 17  DRIVING_FLAG                         233154 non-null  int64  \n",
      " 18  PASSPORT_FLAG                        233154 non-null  int64  \n",
      " 19  PERFORM_CNS_SCORE                    233154 non-null  int64  \n",
      " 20  PERFORM_CNS_SCORE_DESCRIPTION        233154 non-null  object \n",
      " 21  PRI_NO_OF_ACCTS                      233154 non-null  int64  \n",
      " 22  PRI_ACTIVE_ACCTS                     233154 non-null  int64  \n",
      " 23  PRI_OVERDUE_ACCTS                    233154 non-null  int64  \n",
      " 24  PRI_CURRENT_BALANCE                  233154 non-null  int64  \n",
      " 25  PRI_SANCTIONED_AMOUNT                233154 non-null  int64  \n",
      " 26  PRI_DISBURSED_AMOUNT                 233154 non-null  int64  \n",
      " 27  SEC_NO_OF_ACCTS                      233154 non-null  int64  \n",
      " 28  SEC_ACTIVE_ACCTS                     233154 non-null  int64  \n",
      " 29  SEC_OVERDUE_ACCTS                    233154 non-null  int64  \n",
      " 30  SEC_CURRENT_BALANCE                  233154 non-null  int64  \n",
      " 31  SEC_SANCTIONED_AMOUNT                233154 non-null  int64  \n",
      " 32  SEC_DISBURSED_AMOUNT                 233154 non-null  int64  \n",
      " 33  PRIMARY_INSTAL_AMT                   233154 non-null  int64  \n",
      " 34  SEC_INSTAL_AMT                       233154 non-null  int64  \n",
      " 35  NEW_ACCTS_IN_LAST_SIX_MONTHS         233154 non-null  int64  \n",
      " 36  DELINQUENT_ACCTS_IN_LAST_SIX_MONTHS  233154 non-null  int64  \n",
      " 37  AVERAGE_ACCT_AGE                     233154 non-null  object \n",
      " 38  CREDIT_HISTORY_LENGTH                233154 non-null  object \n",
      " 39  NO_OF_INQUIRIES                      233154 non-null  int64  \n",
      " 40  LOAN_DEFAULT                         233154 non-null  int64  \n",
      "dtypes: float64(1), int64(34), object(6)\n",
      "memory usage: 72.9+ MB\n"
     ]
    }
   ],
   "source": [
    "df.info()"
   ]
  },
  {
   "cell_type": "code",
   "execution_count": 354,
   "id": "f91a57f4",
   "metadata": {},
   "outputs": [
    {
     "data": {
      "text/plain": [
       "['UNIQUEID',\n",
       " 'DISBURSED_AMOUNT',\n",
       " 'ASSET_COST',\n",
       " 'LTV',\n",
       " 'BRANCH_ID',\n",
       " 'SUPPLIER_ID',\n",
       " 'MANUFACTURER_ID',\n",
       " 'CURRENT_PINCODE_ID',\n",
       " 'DATE_OF_BIRTH',\n",
       " 'EMPLOYMENT_TYPE',\n",
       " 'DISBURSAL_DATE',\n",
       " 'STATE_ID',\n",
       " 'EMPLOYEE_CODE_ID',\n",
       " 'MOBILENO_AVL_FLAG',\n",
       " 'AADHAR_FLAG',\n",
       " 'PAN_FLAG',\n",
       " 'VOTERID_FLAG',\n",
       " 'DRIVING_FLAG',\n",
       " 'PASSPORT_FLAG',\n",
       " 'PERFORM_CNS_SCORE',\n",
       " 'PERFORM_CNS_SCORE_DESCRIPTION',\n",
       " 'PRI_NO_OF_ACCTS',\n",
       " 'PRI_ACTIVE_ACCTS',\n",
       " 'PRI_OVERDUE_ACCTS',\n",
       " 'PRI_CURRENT_BALANCE',\n",
       " 'PRI_SANCTIONED_AMOUNT',\n",
       " 'PRI_DISBURSED_AMOUNT',\n",
       " 'SEC_NO_OF_ACCTS',\n",
       " 'SEC_ACTIVE_ACCTS',\n",
       " 'SEC_OVERDUE_ACCTS',\n",
       " 'SEC_CURRENT_BALANCE',\n",
       " 'SEC_SANCTIONED_AMOUNT',\n",
       " 'SEC_DISBURSED_AMOUNT',\n",
       " 'PRIMARY_INSTAL_AMT',\n",
       " 'SEC_INSTAL_AMT',\n",
       " 'NEW_ACCTS_IN_LAST_SIX_MONTHS',\n",
       " 'DELINQUENT_ACCTS_IN_LAST_SIX_MONTHS',\n",
       " 'AVERAGE_ACCT_AGE',\n",
       " 'CREDIT_HISTORY_LENGTH',\n",
       " 'NO_OF_INQUIRIES',\n",
       " 'LOAN_DEFAULT']"
      ]
     },
     "execution_count": 354,
     "metadata": {},
     "output_type": "execute_result"
    }
   ],
   "source": [
    "list(df.columns)"
   ]
  },
  {
   "cell_type": "code",
   "execution_count": 355,
   "id": "1ad9aaa1",
   "metadata": {},
   "outputs": [],
   "source": [
    "# drop agreed upon columns\n",
    "\n",
    "colnames = ['DISBURSED_AMOUNT',\n",
    " 'ASSET_COST',\n",
    " 'DATE_OF_BIRTH',\n",
    " 'EMPLOYMENT_TYPE',\n",
    " 'DISBURSAL_DATE',\n",
    " 'DRIVING_FLAG',\n",
    " 'PERFORM_CNS_SCORE',\n",
    " 'PRI_NO_OF_ACCTS',\n",
    " 'PRI_ACTIVE_ACCTS',\n",
    " 'PRI_OVERDUE_ACCTS',\n",
    " 'PRI_CURRENT_BALANCE',\n",
    " 'PRI_SANCTIONED_AMOUNT',\n",
    " 'PRI_DISBURSED_AMOUNT',\n",
    " 'SEC_NO_OF_ACCTS',\n",
    " 'SEC_ACTIVE_ACCTS',\n",
    " 'SEC_OVERDUE_ACCTS',\n",
    " 'SEC_CURRENT_BALANCE',\n",
    " 'SEC_SANCTIONED_AMOUNT',\n",
    " 'SEC_DISBURSED_AMOUNT',\n",
    " 'PRIMARY_INSTAL_AMT',\n",
    " 'SEC_INSTAL_AMT',\n",
    " 'NEW_ACCTS_IN_LAST_SIX_MONTHS',\n",
    " 'DELINQUENT_ACCTS_IN_LAST_SIX_MONTHS',\n",
    " 'AVERAGE_ACCT_AGE',\n",
    " 'CREDIT_HISTORY_LENGTH',\n",
    " 'NO_OF_INQUIRIES',\n",
    " 'LOAN_DEFAULT']\n",
    "\n",
    "df.drop(df.columns.difference(colnames), axis=1, inplace=True)"
   ]
  },
  {
   "cell_type": "code",
   "execution_count": 356,
   "id": "315e2b1e",
   "metadata": {},
   "outputs": [
    {
     "data": {
      "text/html": [
       "<div>\n",
       "<style scoped>\n",
       "    .dataframe tbody tr th:only-of-type {\n",
       "        vertical-align: middle;\n",
       "    }\n",
       "\n",
       "    .dataframe tbody tr th {\n",
       "        vertical-align: top;\n",
       "    }\n",
       "\n",
       "    .dataframe thead th {\n",
       "        text-align: right;\n",
       "    }\n",
       "</style>\n",
       "<table border=\"1\" class=\"dataframe\">\n",
       "  <thead>\n",
       "    <tr style=\"text-align: right;\">\n",
       "      <th></th>\n",
       "      <th>DATE_OF_BIRTH</th>\n",
       "      <th>EMPLOYMENT_TYPE</th>\n",
       "      <th>DISBURSAL_DATE</th>\n",
       "      <th>AVERAGE_ACCT_AGE</th>\n",
       "      <th>CREDIT_HISTORY_LENGTH</th>\n",
       "    </tr>\n",
       "  </thead>\n",
       "  <tbody>\n",
       "    <tr>\n",
       "      <th>0</th>\n",
       "      <td>01-01-1984</td>\n",
       "      <td>Salaried</td>\n",
       "      <td>03-08-2018</td>\n",
       "      <td>0yrs 0mon</td>\n",
       "      <td>0yrs 0mon</td>\n",
       "    </tr>\n",
       "    <tr>\n",
       "      <th>1</th>\n",
       "      <td>31-07-1985</td>\n",
       "      <td>Self employed</td>\n",
       "      <td>26-09-2018</td>\n",
       "      <td>1yrs 11mon</td>\n",
       "      <td>1yrs 11mon</td>\n",
       "    </tr>\n",
       "    <tr>\n",
       "      <th>2</th>\n",
       "      <td>24-08-1985</td>\n",
       "      <td>Self employed</td>\n",
       "      <td>01-08-2018</td>\n",
       "      <td>0yrs 0mon</td>\n",
       "      <td>0yrs 0mon</td>\n",
       "    </tr>\n",
       "    <tr>\n",
       "      <th>3</th>\n",
       "      <td>30-12-1993</td>\n",
       "      <td>Self employed</td>\n",
       "      <td>26-10-2018</td>\n",
       "      <td>0yrs 8mon</td>\n",
       "      <td>1yrs 3mon</td>\n",
       "    </tr>\n",
       "    <tr>\n",
       "      <th>4</th>\n",
       "      <td>09-12-1977</td>\n",
       "      <td>Self employed</td>\n",
       "      <td>26-09-2018</td>\n",
       "      <td>0yrs 0mon</td>\n",
       "      <td>0yrs 0mon</td>\n",
       "    </tr>\n",
       "    <tr>\n",
       "      <th>...</th>\n",
       "      <td>...</td>\n",
       "      <td>...</td>\n",
       "      <td>...</td>\n",
       "      <td>...</td>\n",
       "      <td>...</td>\n",
       "    </tr>\n",
       "    <tr>\n",
       "      <th>233149</th>\n",
       "      <td>01-08-1988</td>\n",
       "      <td>Salaried</td>\n",
       "      <td>26-10-2018</td>\n",
       "      <td>1yrs 9mon</td>\n",
       "      <td>3yrs 3mon</td>\n",
       "    </tr>\n",
       "    <tr>\n",
       "      <th>233150</th>\n",
       "      <td>05-12-1988</td>\n",
       "      <td>Self employed</td>\n",
       "      <td>23-10-2018</td>\n",
       "      <td>0yrs 6mon</td>\n",
       "      <td>0yrs 6mon</td>\n",
       "    </tr>\n",
       "    <tr>\n",
       "      <th>233151</th>\n",
       "      <td>01-06-1976</td>\n",
       "      <td>Salaried</td>\n",
       "      <td>24-10-2018</td>\n",
       "      <td>0yrs 0mon</td>\n",
       "      <td>0yrs 0mon</td>\n",
       "    </tr>\n",
       "    <tr>\n",
       "      <th>233152</th>\n",
       "      <td>26-03-1994</td>\n",
       "      <td>Salaried</td>\n",
       "      <td>29-09-2018</td>\n",
       "      <td>0yrs 0mon</td>\n",
       "      <td>0yrs 0mon</td>\n",
       "    </tr>\n",
       "    <tr>\n",
       "      <th>233153</th>\n",
       "      <td>18-02-1984</td>\n",
       "      <td>Salaried</td>\n",
       "      <td>27-10-2018</td>\n",
       "      <td>0yrs 0mon</td>\n",
       "      <td>0yrs 0mon</td>\n",
       "    </tr>\n",
       "  </tbody>\n",
       "</table>\n",
       "<p>233154 rows × 5 columns</p>\n",
       "</div>"
      ],
      "text/plain": [
       "       DATE_OF_BIRTH EMPLOYMENT_TYPE DISBURSAL_DATE AVERAGE_ACCT_AGE  \\\n",
       "0         01-01-1984        Salaried     03-08-2018        0yrs 0mon   \n",
       "1         31-07-1985   Self employed     26-09-2018       1yrs 11mon   \n",
       "2         24-08-1985   Self employed     01-08-2018        0yrs 0mon   \n",
       "3         30-12-1993   Self employed     26-10-2018        0yrs 8mon   \n",
       "4         09-12-1977   Self employed     26-09-2018        0yrs 0mon   \n",
       "...              ...             ...            ...              ...   \n",
       "233149    01-08-1988        Salaried     26-10-2018        1yrs 9mon   \n",
       "233150    05-12-1988   Self employed     23-10-2018        0yrs 6mon   \n",
       "233151    01-06-1976        Salaried     24-10-2018        0yrs 0mon   \n",
       "233152    26-03-1994        Salaried     29-09-2018        0yrs 0mon   \n",
       "233153    18-02-1984        Salaried     27-10-2018        0yrs 0mon   \n",
       "\n",
       "       CREDIT_HISTORY_LENGTH  \n",
       "0                  0yrs 0mon  \n",
       "1                 1yrs 11mon  \n",
       "2                  0yrs 0mon  \n",
       "3                  1yrs 3mon  \n",
       "4                  0yrs 0mon  \n",
       "...                      ...  \n",
       "233149             3yrs 3mon  \n",
       "233150             0yrs 6mon  \n",
       "233151             0yrs 0mon  \n",
       "233152             0yrs 0mon  \n",
       "233153             0yrs 0mon  \n",
       "\n",
       "[233154 rows x 5 columns]"
      ]
     },
     "execution_count": 356,
     "metadata": {},
     "output_type": "execute_result"
    }
   ],
   "source": [
    "df.select_dtypes(include=object)"
   ]
  },
  {
   "cell_type": "markdown",
   "id": "db11d9e0",
   "metadata": {},
   "source": [
    "## Data transformation"
   ]
  },
  {
   "cell_type": "code",
   "execution_count": 357,
   "id": "a9b4c172",
   "metadata": {},
   "outputs": [],
   "source": [
    "# convert dates so that we can have years-months-days format to manipulate\n",
    "\n",
    "df['DATE_OF_BIRTH'] = pd.to_datetime(df['DATE_OF_BIRTH'])\n",
    "df['DISBURSAL_DATE'] = pd.to_datetime(df['DISBURSAL_DATE'])\n"
   ]
  },
  {
   "cell_type": "code",
   "execution_count": 358,
   "id": "d015dfc9",
   "metadata": {},
   "outputs": [],
   "source": [
    "# convert dates to years? or days? I think days is better so that we dont have to worry about decimal points\n",
    "\n",
    "# convert back to string to manipulate dates and remove \"-\" sign so that we can substract using Timestamp\n",
    "df['DATE_OF_BIRTH'] = df['DATE_OF_BIRTH'].apply(lambda x: str(x).replace(\"-\",\"\"))\n",
    "df['DISBURSAL_DATE'] = df['DISBURSAL_DATE'].apply(lambda x: str(x).replace(\"-\",\"\"))\n",
    "\n",
    "df['DATE_OF_BIRTH'] = df['DATE_OF_BIRTH'].apply(lambda x: x.split()[0])\n",
    "df['DISBURSAL_DATE'] = df['DISBURSAL_DATE'].apply(lambda x: x.split()[0])\n",
    "\n",
    "# use timestamp to substract\n",
    "df['DATE_OF_BIRTH'] = df['DATE_OF_BIRTH'].apply(lambda x: pd.Timestamp(x))\n",
    "df['DISBURSAL_DATE'] = df['DISBURSAL_DATE'].apply(lambda x: pd.Timestamp(x))\n",
    "\n",
    "# hard input todays date in a new column and subtract from dates column\n",
    "\n",
    "df['TODAYS_DATE'] = pd.Timestamp('20211214')\n",
    "\n",
    "df['LOANEE_DOB_DAYS'] = (df['TODAYS_DATE'] - df['DATE_OF_BIRTH']).dt.days\n",
    "df['DISBURSAL_DATE_DAYS'] = (df['TODAYS_DATE'] - df['DISBURSAL_DATE']).dt.days\n",
    "\n",
    "# drop TODAYS_DATE, DATE_OF_BIRTH, DISBURSAL_DATE column\n",
    "drop_col = ['TODAYS_DATE','DATE_OF_BIRTH', 'DISBURSAL_DATE']\n",
    "df.drop(columns=drop_col, axis=1, inplace=True)"
   ]
  },
  {
   "cell_type": "code",
   "execution_count": 359,
   "id": "b378270d",
   "metadata": {
    "scrolled": true
   },
   "outputs": [],
   "source": [
    "# convert ages to days\n",
    "\n",
    "df['AVERAGE_ACCT_AGE_DAYS'] = df['AVERAGE_ACCT_AGE'].apply(lambda x: (int(x.split()[0].replace(\"yrs\",\"\"))*365) + (int(x.split()[1].replace(\"mon\",\"\"))*30))\n",
    "df['CREDIT_HISTORY_LENGTH_DAYS'] = df[\"CREDIT_HISTORY_LENGTH\"].apply(lambda x: (int(x.split()[0].replace(\"yrs\",\"\"))*365) + (int(x.split()[1].replace(\"mon\",\"\"))*30))\n",
    "\n",
    "# drop AVERAGE_ACCT_AGE, CREDIT_HISTORY_LENGTH\n",
    "df.drop(columns=['AVERAGE_ACCT_AGE', 'CREDIT_HISTORY_LENGTH'], axis=1, inplace=True)"
   ]
  },
  {
   "cell_type": "code",
   "execution_count": 360,
   "id": "5c259b14",
   "metadata": {},
   "outputs": [
    {
     "data": {
      "text/plain": [
       "0           0\n",
       "1         695\n",
       "2           0\n",
       "3         240\n",
       "4           0\n",
       "         ... \n",
       "233149    635\n",
       "233150    180\n",
       "233151      0\n",
       "233152      0\n",
       "233153      0\n",
       "Name: AVERAGE_ACCT_AGE, Length: 233154, dtype: int64"
      ]
     },
     "execution_count": 360,
     "metadata": {},
     "output_type": "execute_result"
    }
   ],
   "source": [
    "df['AVERAGE_ACCT_AGE_DAYS']"
   ]
  },
  {
   "cell_type": "code",
   "execution_count": 361,
   "id": "03004326",
   "metadata": {},
   "outputs": [
    {
     "name": "stdout",
     "output_type": "stream",
     "text": [
      "<class 'pandas.core.frame.DataFrame'>\n",
      "RangeIndex: 233154 entries, 0 to 233153\n",
      "Data columns (total 27 columns):\n",
      " #   Column                               Non-Null Count   Dtype \n",
      "---  ------                               --------------   ----- \n",
      " 0   DISBURSED_AMOUNT                     233154 non-null  int64 \n",
      " 1   ASSET_COST                           233154 non-null  int64 \n",
      " 2   EMPLOYMENT_TYPE                      225493 non-null  object\n",
      " 3   DRIVING_FLAG                         233154 non-null  int64 \n",
      " 4   PERFORM_CNS_SCORE                    233154 non-null  int64 \n",
      " 5   PRI_NO_OF_ACCTS                      233154 non-null  int64 \n",
      " 6   PRI_ACTIVE_ACCTS                     233154 non-null  int64 \n",
      " 7   PRI_OVERDUE_ACCTS                    233154 non-null  int64 \n",
      " 8   PRI_CURRENT_BALANCE                  233154 non-null  int64 \n",
      " 9   PRI_SANCTIONED_AMOUNT                233154 non-null  int64 \n",
      " 10  PRI_DISBURSED_AMOUNT                 233154 non-null  int64 \n",
      " 11  SEC_NO_OF_ACCTS                      233154 non-null  int64 \n",
      " 12  SEC_ACTIVE_ACCTS                     233154 non-null  int64 \n",
      " 13  SEC_OVERDUE_ACCTS                    233154 non-null  int64 \n",
      " 14  SEC_CURRENT_BALANCE                  233154 non-null  int64 \n",
      " 15  SEC_SANCTIONED_AMOUNT                233154 non-null  int64 \n",
      " 16  SEC_DISBURSED_AMOUNT                 233154 non-null  int64 \n",
      " 17  PRIMARY_INSTAL_AMT                   233154 non-null  int64 \n",
      " 18  SEC_INSTAL_AMT                       233154 non-null  int64 \n",
      " 19  NEW_ACCTS_IN_LAST_SIX_MONTHS         233154 non-null  int64 \n",
      " 20  DELINQUENT_ACCTS_IN_LAST_SIX_MONTHS  233154 non-null  int64 \n",
      " 21  AVERAGE_ACCT_AGE                     233154 non-null  int64 \n",
      " 22  CREDIT_HISTORY_LENGTH                233154 non-null  int64 \n",
      " 23  NO_OF_INQUIRIES                      233154 non-null  int64 \n",
      " 24  LOAN_DEFAULT                         233154 non-null  int64 \n",
      " 25  LOANEE_DOB_DAYS                      233154 non-null  int64 \n",
      " 26  DISBURSAL_DATE_DAYS                  233154 non-null  int64 \n",
      "dtypes: int64(26), object(1)\n",
      "memory usage: 48.0+ MB\n"
     ]
    }
   ],
   "source": [
    "df.info()"
   ]
  },
  {
   "cell_type": "code",
   "execution_count": 362,
   "id": "c9a97243",
   "metadata": {},
   "outputs": [
    {
     "data": {
      "text/html": [
       "<div>\n",
       "<style scoped>\n",
       "    .dataframe tbody tr th:only-of-type {\n",
       "        vertical-align: middle;\n",
       "    }\n",
       "\n",
       "    .dataframe tbody tr th {\n",
       "        vertical-align: top;\n",
       "    }\n",
       "\n",
       "    .dataframe thead th {\n",
       "        text-align: right;\n",
       "    }\n",
       "</style>\n",
       "<table border=\"1\" class=\"dataframe\">\n",
       "  <thead>\n",
       "    <tr style=\"text-align: right;\">\n",
       "      <th></th>\n",
       "      <th>DISBURSED_AMOUNT</th>\n",
       "      <th>ASSET_COST</th>\n",
       "      <th>EMPLOYMENT_TYPE</th>\n",
       "      <th>DRIVING_FLAG</th>\n",
       "      <th>PERFORM_CNS_SCORE</th>\n",
       "      <th>PRI_NO_OF_ACCTS</th>\n",
       "      <th>PRI_ACTIVE_ACCTS</th>\n",
       "      <th>PRI_OVERDUE_ACCTS</th>\n",
       "      <th>PRI_CURRENT_BALANCE</th>\n",
       "      <th>PRI_SANCTIONED_AMOUNT</th>\n",
       "      <th>...</th>\n",
       "      <th>PRIMARY_INSTAL_AMT</th>\n",
       "      <th>SEC_INSTAL_AMT</th>\n",
       "      <th>NEW_ACCTS_IN_LAST_SIX_MONTHS</th>\n",
       "      <th>DELINQUENT_ACCTS_IN_LAST_SIX_MONTHS</th>\n",
       "      <th>AVERAGE_ACCT_AGE</th>\n",
       "      <th>CREDIT_HISTORY_LENGTH</th>\n",
       "      <th>NO_OF_INQUIRIES</th>\n",
       "      <th>LOAN_DEFAULT</th>\n",
       "      <th>LOANEE_DOB_DAYS</th>\n",
       "      <th>DISBURSAL_DATE_DAYS</th>\n",
       "    </tr>\n",
       "  </thead>\n",
       "  <tbody>\n",
       "    <tr>\n",
       "      <th>0</th>\n",
       "      <td>50578</td>\n",
       "      <td>58400</td>\n",
       "      <td>Salaried</td>\n",
       "      <td>0</td>\n",
       "      <td>0</td>\n",
       "      <td>0</td>\n",
       "      <td>0</td>\n",
       "      <td>0</td>\n",
       "      <td>0</td>\n",
       "      <td>0</td>\n",
       "      <td>...</td>\n",
       "      <td>0</td>\n",
       "      <td>0</td>\n",
       "      <td>0</td>\n",
       "      <td>0</td>\n",
       "      <td>0</td>\n",
       "      <td>0</td>\n",
       "      <td>0</td>\n",
       "      <td>0</td>\n",
       "      <td>13862</td>\n",
       "      <td>1377</td>\n",
       "    </tr>\n",
       "    <tr>\n",
       "      <th>1</th>\n",
       "      <td>47145</td>\n",
       "      <td>65550</td>\n",
       "      <td>Self employed</td>\n",
       "      <td>0</td>\n",
       "      <td>598</td>\n",
       "      <td>1</td>\n",
       "      <td>1</td>\n",
       "      <td>1</td>\n",
       "      <td>27600</td>\n",
       "      <td>50200</td>\n",
       "      <td>...</td>\n",
       "      <td>1991</td>\n",
       "      <td>0</td>\n",
       "      <td>0</td>\n",
       "      <td>1</td>\n",
       "      <td>695</td>\n",
       "      <td>695</td>\n",
       "      <td>0</td>\n",
       "      <td>1</td>\n",
       "      <td>13285</td>\n",
       "      <td>1175</td>\n",
       "    </tr>\n",
       "    <tr>\n",
       "      <th>2</th>\n",
       "      <td>53278</td>\n",
       "      <td>61360</td>\n",
       "      <td>Self employed</td>\n",
       "      <td>0</td>\n",
       "      <td>0</td>\n",
       "      <td>0</td>\n",
       "      <td>0</td>\n",
       "      <td>0</td>\n",
       "      <td>0</td>\n",
       "      <td>0</td>\n",
       "      <td>...</td>\n",
       "      <td>0</td>\n",
       "      <td>0</td>\n",
       "      <td>0</td>\n",
       "      <td>0</td>\n",
       "      <td>0</td>\n",
       "      <td>0</td>\n",
       "      <td>0</td>\n",
       "      <td>0</td>\n",
       "      <td>13261</td>\n",
       "      <td>1436</td>\n",
       "    </tr>\n",
       "    <tr>\n",
       "      <th>3</th>\n",
       "      <td>57513</td>\n",
       "      <td>66113</td>\n",
       "      <td>Self employed</td>\n",
       "      <td>0</td>\n",
       "      <td>305</td>\n",
       "      <td>3</td>\n",
       "      <td>0</td>\n",
       "      <td>0</td>\n",
       "      <td>0</td>\n",
       "      <td>0</td>\n",
       "      <td>...</td>\n",
       "      <td>31</td>\n",
       "      <td>0</td>\n",
       "      <td>0</td>\n",
       "      <td>0</td>\n",
       "      <td>240</td>\n",
       "      <td>455</td>\n",
       "      <td>1</td>\n",
       "      <td>1</td>\n",
       "      <td>10211</td>\n",
       "      <td>1145</td>\n",
       "    </tr>\n",
       "    <tr>\n",
       "      <th>4</th>\n",
       "      <td>52378</td>\n",
       "      <td>60300</td>\n",
       "      <td>Self employed</td>\n",
       "      <td>0</td>\n",
       "      <td>0</td>\n",
       "      <td>0</td>\n",
       "      <td>0</td>\n",
       "      <td>0</td>\n",
       "      <td>0</td>\n",
       "      <td>0</td>\n",
       "      <td>...</td>\n",
       "      <td>0</td>\n",
       "      <td>0</td>\n",
       "      <td>0</td>\n",
       "      <td>0</td>\n",
       "      <td>0</td>\n",
       "      <td>0</td>\n",
       "      <td>1</td>\n",
       "      <td>1</td>\n",
       "      <td>16164</td>\n",
       "      <td>1175</td>\n",
       "    </tr>\n",
       "    <tr>\n",
       "      <th>...</th>\n",
       "      <td>...</td>\n",
       "      <td>...</td>\n",
       "      <td>...</td>\n",
       "      <td>...</td>\n",
       "      <td>...</td>\n",
       "      <td>...</td>\n",
       "      <td>...</td>\n",
       "      <td>...</td>\n",
       "      <td>...</td>\n",
       "      <td>...</td>\n",
       "      <td>...</td>\n",
       "      <td>...</td>\n",
       "      <td>...</td>\n",
       "      <td>...</td>\n",
       "      <td>...</td>\n",
       "      <td>...</td>\n",
       "      <td>...</td>\n",
       "      <td>...</td>\n",
       "      <td>...</td>\n",
       "      <td>...</td>\n",
       "      <td>...</td>\n",
       "    </tr>\n",
       "    <tr>\n",
       "      <th>233149</th>\n",
       "      <td>63213</td>\n",
       "      <td>105405</td>\n",
       "      <td>Salaried</td>\n",
       "      <td>0</td>\n",
       "      <td>735</td>\n",
       "      <td>4</td>\n",
       "      <td>3</td>\n",
       "      <td>0</td>\n",
       "      <td>390443</td>\n",
       "      <td>416133</td>\n",
       "      <td>...</td>\n",
       "      <td>4084</td>\n",
       "      <td>0</td>\n",
       "      <td>0</td>\n",
       "      <td>0</td>\n",
       "      <td>635</td>\n",
       "      <td>1185</td>\n",
       "      <td>0</td>\n",
       "      <td>0</td>\n",
       "      <td>12394</td>\n",
       "      <td>1145</td>\n",
       "    </tr>\n",
       "    <tr>\n",
       "      <th>233150</th>\n",
       "      <td>73651</td>\n",
       "      <td>100600</td>\n",
       "      <td>Self employed</td>\n",
       "      <td>0</td>\n",
       "      <td>825</td>\n",
       "      <td>1</td>\n",
       "      <td>0</td>\n",
       "      <td>0</td>\n",
       "      <td>0</td>\n",
       "      <td>0</td>\n",
       "      <td>...</td>\n",
       "      <td>1565</td>\n",
       "      <td>0</td>\n",
       "      <td>0</td>\n",
       "      <td>0</td>\n",
       "      <td>180</td>\n",
       "      <td>180</td>\n",
       "      <td>0</td>\n",
       "      <td>0</td>\n",
       "      <td>12269</td>\n",
       "      <td>1148</td>\n",
       "    </tr>\n",
       "    <tr>\n",
       "      <th>233151</th>\n",
       "      <td>33484</td>\n",
       "      <td>71212</td>\n",
       "      <td>Salaried</td>\n",
       "      <td>0</td>\n",
       "      <td>0</td>\n",
       "      <td>0</td>\n",
       "      <td>0</td>\n",
       "      <td>0</td>\n",
       "      <td>0</td>\n",
       "      <td>0</td>\n",
       "      <td>...</td>\n",
       "      <td>0</td>\n",
       "      <td>0</td>\n",
       "      <td>0</td>\n",
       "      <td>0</td>\n",
       "      <td>0</td>\n",
       "      <td>0</td>\n",
       "      <td>0</td>\n",
       "      <td>0</td>\n",
       "      <td>16779</td>\n",
       "      <td>1147</td>\n",
       "    </tr>\n",
       "    <tr>\n",
       "      <th>233152</th>\n",
       "      <td>34259</td>\n",
       "      <td>73286</td>\n",
       "      <td>Salaried</td>\n",
       "      <td>0</td>\n",
       "      <td>0</td>\n",
       "      <td>0</td>\n",
       "      <td>0</td>\n",
       "      <td>0</td>\n",
       "      <td>0</td>\n",
       "      <td>0</td>\n",
       "      <td>...</td>\n",
       "      <td>0</td>\n",
       "      <td>0</td>\n",
       "      <td>0</td>\n",
       "      <td>0</td>\n",
       "      <td>0</td>\n",
       "      <td>0</td>\n",
       "      <td>0</td>\n",
       "      <td>0</td>\n",
       "      <td>10125</td>\n",
       "      <td>1172</td>\n",
       "    </tr>\n",
       "    <tr>\n",
       "      <th>233153</th>\n",
       "      <td>75751</td>\n",
       "      <td>116009</td>\n",
       "      <td>Salaried</td>\n",
       "      <td>0</td>\n",
       "      <td>0</td>\n",
       "      <td>0</td>\n",
       "      <td>0</td>\n",
       "      <td>0</td>\n",
       "      <td>0</td>\n",
       "      <td>0</td>\n",
       "      <td>...</td>\n",
       "      <td>0</td>\n",
       "      <td>0</td>\n",
       "      <td>0</td>\n",
       "      <td>0</td>\n",
       "      <td>0</td>\n",
       "      <td>0</td>\n",
       "      <td>0</td>\n",
       "      <td>0</td>\n",
       "      <td>13814</td>\n",
       "      <td>1144</td>\n",
       "    </tr>\n",
       "  </tbody>\n",
       "</table>\n",
       "<p>233154 rows × 27 columns</p>\n",
       "</div>"
      ],
      "text/plain": [
       "        DISBURSED_AMOUNT  ASSET_COST EMPLOYMENT_TYPE  DRIVING_FLAG  \\\n",
       "0                  50578       58400        Salaried             0   \n",
       "1                  47145       65550   Self employed             0   \n",
       "2                  53278       61360   Self employed             0   \n",
       "3                  57513       66113   Self employed             0   \n",
       "4                  52378       60300   Self employed             0   \n",
       "...                  ...         ...             ...           ...   \n",
       "233149             63213      105405        Salaried             0   \n",
       "233150             73651      100600   Self employed             0   \n",
       "233151             33484       71212        Salaried             0   \n",
       "233152             34259       73286        Salaried             0   \n",
       "233153             75751      116009        Salaried             0   \n",
       "\n",
       "        PERFORM_CNS_SCORE  PRI_NO_OF_ACCTS  PRI_ACTIVE_ACCTS  \\\n",
       "0                       0                0                 0   \n",
       "1                     598                1                 1   \n",
       "2                       0                0                 0   \n",
       "3                     305                3                 0   \n",
       "4                       0                0                 0   \n",
       "...                   ...              ...               ...   \n",
       "233149                735                4                 3   \n",
       "233150                825                1                 0   \n",
       "233151                  0                0                 0   \n",
       "233152                  0                0                 0   \n",
       "233153                  0                0                 0   \n",
       "\n",
       "        PRI_OVERDUE_ACCTS  PRI_CURRENT_BALANCE  PRI_SANCTIONED_AMOUNT  ...  \\\n",
       "0                       0                    0                      0  ...   \n",
       "1                       1                27600                  50200  ...   \n",
       "2                       0                    0                      0  ...   \n",
       "3                       0                    0                      0  ...   \n",
       "4                       0                    0                      0  ...   \n",
       "...                   ...                  ...                    ...  ...   \n",
       "233149                  0               390443                 416133  ...   \n",
       "233150                  0                    0                      0  ...   \n",
       "233151                  0                    0                      0  ...   \n",
       "233152                  0                    0                      0  ...   \n",
       "233153                  0                    0                      0  ...   \n",
       "\n",
       "        PRIMARY_INSTAL_AMT  SEC_INSTAL_AMT  NEW_ACCTS_IN_LAST_SIX_MONTHS  \\\n",
       "0                        0               0                             0   \n",
       "1                     1991               0                             0   \n",
       "2                        0               0                             0   \n",
       "3                       31               0                             0   \n",
       "4                        0               0                             0   \n",
       "...                    ...             ...                           ...   \n",
       "233149                4084               0                             0   \n",
       "233150                1565               0                             0   \n",
       "233151                   0               0                             0   \n",
       "233152                   0               0                             0   \n",
       "233153                   0               0                             0   \n",
       "\n",
       "        DELINQUENT_ACCTS_IN_LAST_SIX_MONTHS  AVERAGE_ACCT_AGE  \\\n",
       "0                                         0                 0   \n",
       "1                                         1               695   \n",
       "2                                         0                 0   \n",
       "3                                         0               240   \n",
       "4                                         0                 0   \n",
       "...                                     ...               ...   \n",
       "233149                                    0               635   \n",
       "233150                                    0               180   \n",
       "233151                                    0                 0   \n",
       "233152                                    0                 0   \n",
       "233153                                    0                 0   \n",
       "\n",
       "        CREDIT_HISTORY_LENGTH  NO_OF_INQUIRIES  LOAN_DEFAULT  LOANEE_DOB_DAYS  \\\n",
       "0                           0                0             0            13862   \n",
       "1                         695                0             1            13285   \n",
       "2                           0                0             0            13261   \n",
       "3                         455                1             1            10211   \n",
       "4                           0                1             1            16164   \n",
       "...                       ...              ...           ...              ...   \n",
       "233149                   1185                0             0            12394   \n",
       "233150                    180                0             0            12269   \n",
       "233151                      0                0             0            16779   \n",
       "233152                      0                0             0            10125   \n",
       "233153                      0                0             0            13814   \n",
       "\n",
       "        DISBURSAL_DATE_DAYS  \n",
       "0                      1377  \n",
       "1                      1175  \n",
       "2                      1436  \n",
       "3                      1145  \n",
       "4                      1175  \n",
       "...                     ...  \n",
       "233149                 1145  \n",
       "233150                 1148  \n",
       "233151                 1147  \n",
       "233152                 1172  \n",
       "233153                 1144  \n",
       "\n",
       "[233154 rows x 27 columns]"
      ]
     },
     "execution_count": 362,
     "metadata": {},
     "output_type": "execute_result"
    }
   ],
   "source": [
    "df"
   ]
  },
  {
   "cell_type": "markdown",
   "id": "7a5a9f30",
   "metadata": {},
   "source": [
    "## Outlier exploration and handling"
   ]
  },
  {
   "cell_type": "code",
   "execution_count": 365,
   "id": "574dfe9b",
   "metadata": {},
   "outputs": [],
   "source": [
    "numerical = df.select_dtypes(exclude=object)"
   ]
  },
  {
   "cell_type": "code",
   "execution_count": 375,
   "id": "73c96d83",
   "metadata": {},
   "outputs": [
    {
     "name": "stdout",
     "output_type": "stream",
     "text": [
      "DISBURSED_AMOUNT (27243.0, 80315.0)\n",
      "ASSET_COST (45489.875, 99428.875)\n",
      "DRIVING_FLAG (0.0, 0.0)\n",
      "PERFORM_CNS_SCORE (-1017.0, 1695.0)\n",
      "PRI_NO_OF_ACCTS (-4.5, 7.5)\n",
      "PRI_ACTIVE_ACCTS (-1.5, 2.5)\n",
      "PRI_OVERDUE_ACCTS (0.0, 0.0)\n",
      "PRI_CURRENT_BALANCE (-52509.75, 87516.25)\n",
      "PRI_SANCTIONED_AMOUNT (-93750.0, 156250.0)\n",
      "PRI_DISBURSED_AMOUNT (-91200.0, 152000.0)\n",
      "SEC_NO_OF_ACCTS (0.0, 0.0)\n",
      "SEC_ACTIVE_ACCTS (0.0, 0.0)\n",
      "SEC_OVERDUE_ACCTS (0.0, 0.0)\n",
      "SEC_CURRENT_BALANCE (0.0, 0.0)\n",
      "SEC_SANCTIONED_AMOUNT (0.0, 0.0)\n",
      "SEC_DISBURSED_AMOUNT (0.0, 0.0)\n",
      "PRIMARY_INSTAL_AMT (-2998.5, 4997.5)\n",
      "SEC_INSTAL_AMT (0.0, 0.0)\n",
      "NEW_ACCTS_IN_LAST_SIX_MONTHS (0.0, 0.0)\n",
      "DELINQUENT_ACCTS_IN_LAST_SIX_MONTHS (0.0, 0.0)\n",
      "AVERAGE_ACCT_AGE (-592.5, 987.5)\n",
      "CREDIT_HISTORY_LENGTH (-1095.0, 1825.0)\n",
      "NO_OF_INQUIRIES (0.0, 0.0)\n",
      "LOAN_DEFAULT (0.0, 0.0)\n",
      "LOANEE_DOB_DAYS (2529.0, 24601.0)\n",
      "DISBURSAL_DATE_DAYS (1059.5, 1295.5)\n"
     ]
    }
   ],
   "source": [
    "def outlier_checker(df, col):\n",
    "    q1 = df[col].quantile(0.25)\n",
    "    q3 = df[col].quantile(0.75)\n",
    "    IQR = q3 - q1\n",
    "    LL = q1 - 1.5 * IQR\n",
    "    UL = q3 + 1.5 * IQR\n",
    "    return LL, UL\n",
    "\n",
    "for i in numerical.columns:\n",
    "    print(i, outlier_checker(df, i))"
   ]
  },
  {
   "cell_type": "code",
   "execution_count": 406,
   "id": "0b7fb6ea",
   "metadata": {},
   "outputs": [],
   "source": [
    "def boxplot_plot(df, col):\n",
    "    plt.boxplot(x=col, vert=False, data=df)\n",
    "    plt.show()"
   ]
  },
  {
   "cell_type": "code",
   "execution_count": 407,
   "id": "9a8ef6f0",
   "metadata": {
    "scrolled": false
   },
   "outputs": [
    {
     "name": "stdout",
     "output_type": "stream",
     "text": [
      "DISBURSED_AMOUNT\n"
     ]
    },
    {
     "data": {
      "image/png": "[encoded data removed]",
      "text/plain": [
       "<Figure size 432x288 with 1 Axes>"
      ]
     },
     "metadata": {
      "needs_background": "light"
     },
     "output_type": "display_data"
    },
    {
     "name": "stdout",
     "output_type": "stream",
     "text": [
      "ASSET_COST\n"
     ]
    },
    {
     "data": {
      "image/png": "[encoded data removed]",
      "text/plain": [
       "<Figure size 432x288 with 1 Axes>"
      ]
     },
     "metadata": {
      "needs_background": "light"
     },
     "output_type": "display_data"
    },
    {
     "name": "stdout",
     "output_type": "stream",
     "text": [
      "DRIVING_FLAG\n"
     ]
    },
    {
     "data": {
      "image/png": "[encoded data removed]",
      "text/plain": [
       "<Figure size 432x288 with 1 Axes>"
      ]
     },
     "metadata": {
      "needs_background": "light"
     },
     "output_type": "display_data"
    },
    {
     "name": "stdout",
     "output_type": "stream",
     "text": [
      "PERFORM_CNS_SCORE\n"
     ]
    },
    {
     "data": {
      "image/png": "[encoded data removed]",
      "text/plain": [
       "<Figure size 432x288 with 1 Axes>"
      ]
     },
     "metadata": {
      "needs_background": "light"
     },
     "output_type": "display_data"
    },
    {
     "name": "stdout",
     "output_type": "stream",
     "text": [
      "PRI_NO_OF_ACCTS\n"
     ]
    },
    {
     "data": {
      "image/png": "[encoded data removed]",
      "text/plain": [
       "<Figure size 432x288 with 1 Axes>"
      ]
     },
     "metadata": {
      "needs_background": "light"
     },
     "output_type": "display_data"
    },
    {
     "name": "stdout",
     "output_type": "stream",
     "text": [
      "PRI_ACTIVE_ACCTS\n"
     ]
    },
    {
     "data": {
      "image/png": "[encoded data removed]",
      "text/plain": [
       "<Figure size 432x288 with 1 Axes>"
      ]
     },
     "metadata": {
      "needs_background": "light"
     },
     "output_type": "display_data"
    },
    {
     "name": "stdout",
     "output_type": "stream",
     "text": [
      "PRI_OVERDUE_ACCTS\n"
     ]
    },
    {
     "data": {
      "image/png": "[encoded data removed]",
      "text/plain": [
       "<Figure size 432x288 with 1 Axes>"
      ]
     },
     "metadata": {
      "needs_background": "light"
     },
     "output_type": "display_data"
    },
    {
     "name": "stdout",
     "output_type": "stream",
     "text": [
      "PRI_CURRENT_BALANCE\n"
     ]
    },
    {
     "data": {
      "image/png": "[encoded data removed]",
      "text/plain": [
       "<Figure size 432x288 with 1 Axes>"
      ]
     },
     "metadata": {
      "needs_background": "light"
     },
     "output_type": "display_data"
    },
    {
     "name": "stdout",
     "output_type": "stream",
     "text": [
      "PRI_SANCTIONED_AMOUNT\n"
     ]
    },
    {
     "data": {
      "image/png": "[encoded data removed]",
      "text/plain": [
       "<Figure size 432x288 with 1 Axes>"
      ]
     },
     "metadata": {
      "needs_background": "light"
     },
     "output_type": "display_data"
    },
    {
     "name": "stdout",
     "output_type": "stream",
     "text": [
      "PRI_DISBURSED_AMOUNT\n"
     ]
    },
    {
     "data": {
      "image/png": "[encoded data removed]",
      "text/plain": [
       "<Figure size 432x288 with 1 Axes>"
      ]
     },
     "metadata": {
      "needs_background": "light"
     },
     "output_type": "display_data"
    },
    {
     "name": "stdout",
     "output_type": "stream",
     "text": [
      "SEC_NO_OF_ACCTS\n"
     ]
    },
    {
     "data": {
      "image/png": "[encoded data removed]",
      "text/plain": [
       "<Figure size 432x288 with 1 Axes>"
      ]
     },
     "metadata": {
      "needs_background": "light"
     },
     "output_type": "display_data"
    },
    {
     "name": "stdout",
     "output_type": "stream",
     "text": [
      "SEC_ACTIVE_ACCTS\n"
     ]
    },
    {
     "data": {
      "image/png": "[encoded data removed]",
      "text/plain": [
       "<Figure size 432x288 with 1 Axes>"
      ]
     },
     "metadata": {
      "needs_background": "light"
     },
     "output_type": "display_data"
    },
    {
     "name": "stdout",
     "output_type": "stream",
     "text": [
      "SEC_OVERDUE_ACCTS\n"
     ]
    },
    {
     "data": {
      "image/png": "[encoded data removed]",
      "text/plain": [
       "<Figure size 432x288 with 1 Axes>"
      ]
     },
     "metadata": {
      "needs_background": "light"
     },
     "output_type": "display_data"
    },
    {
     "name": "stdout",
     "output_type": "stream",
     "text": [
      "SEC_CURRENT_BALANCE\n"
     ]
    },
    {
     "data": {
      "image/png": "[encoded data removed]",
      "text/plain": [
       "<Figure size 432x288 with 1 Axes>"
      ]
     },
     "metadata": {
      "needs_background": "light"
     },
     "output_type": "display_data"
    },
    {
     "name": "stdout",
     "output_type": "stream",
     "text": [
      "SEC_SANCTIONED_AMOUNT\n"
     ]
    },
    {
     "data": {
      "image/png": "[encoded data removed]",
      "text/plain": [
       "<Figure size 432x288 with 1 Axes>"
      ]
     },
     "metadata": {
      "needs_background": "light"
     },
     "output_type": "display_data"
    },
    {
     "name": "stdout",
     "output_type": "stream",
     "text": [
      "SEC_DISBURSED_AMOUNT\n"
     ]
    },
    {
     "data": {
      "image/png": "[encoded data removed]",
      "text/plain": [
       "<Figure size 432x288 with 1 Axes>"
      ]
     },
     "metadata": {
      "needs_background": "light"
     },
     "output_type": "display_data"
    },
    {
     "name": "stdout",
     "output_type": "stream",
     "text": [
      "PRIMARY_INSTAL_AMT\n"
     ]
    },
    {
     "data": {
      "image/png": "[encoded data removed]",
      "text/plain": [
       "<Figure size 432x288 with 1 Axes>"
      ]
     },
     "metadata": {
      "needs_background": "light"
     },
     "output_type": "display_data"
    },
    {
     "name": "stdout",
     "output_type": "stream",
     "text": [
      "SEC_INSTAL_AMT\n"
     ]
    },
    {
     "data": {
      "image/png": "[encoded data removed]",
      "text/plain": [
       "<Figure size 432x288 with 1 Axes>"
      ]
     },
     "metadata": {
      "needs_background": "light"
     },
     "output_type": "display_data"
    },
    {
     "name": "stdout",
     "output_type": "stream",
     "text": [
      "NEW_ACCTS_IN_LAST_SIX_MONTHS\n"
     ]
    },
    {
     "data": {
      "image/png": "[encoded data removed]",
      "text/plain": [
       "<Figure size 432x288 with 1 Axes>"
      ]
     },
     "metadata": {
      "needs_background": "light"
     },
     "output_type": "display_data"
    },
    {
     "name": "stdout",
     "output_type": "stream",
     "text": [
      "DELINQUENT_ACCTS_IN_LAST_SIX_MONTHS\n"
     ]
    },
    {
     "data": {
      "image/png": "[encoded data removed]",
      "text/plain": [
       "<Figure size 432x288 with 1 Axes>"
      ]
     },
     "metadata": {
      "needs_background": "light"
     },
     "output_type": "display_data"
    },
    {
     "name": "stdout",
     "output_type": "stream",
     "text": [
      "AVERAGE_ACCT_AGE\n"
     ]
    },
    {
     "data": {
      "image/png": "[encoded data removed]",
      "text/plain": [
       "<Figure size 432x288 with 1 Axes>"
      ]
     },
     "metadata": {
      "needs_background": "light"
     },
     "output_type": "display_data"
    },
    {
     "name": "stdout",
     "output_type": "stream",
     "text": [
      "CREDIT_HISTORY_LENGTH\n"
     ]
    },
    {
     "data": {
      "image/png": "[encoded data removed]",
      "text/plain": [
       "<Figure size 432x288 with 1 Axes>"
      ]
     },
     "metadata": {
      "needs_background": "light"
     },
     "output_type": "display_data"
    },
    {
     "name": "stdout",
     "output_type": "stream",
     "text": [
      "NO_OF_INQUIRIES\n"
     ]
    },
    {
     "data": {
      "image/png": "[encoded data removed]",
      "text/plain": [
       "<Figure size 432x288 with 1 Axes>"
      ]
     },
     "metadata": {
      "needs_background": "light"
     },
     "output_type": "display_data"
    },
    {
     "name": "stdout",
     "output_type": "stream",
     "text": [
      "LOAN_DEFAULT\n"
     ]
    },
    {
     "data": {
      "image/png": "[encoded data removed]",
      "text/plain": [
       "<Figure size 432x288 with 1 Axes>"
      ]
     },
     "metadata": {
      "needs_background": "light"
     },
     "output_type": "display_data"
    },
    {
     "name": "stdout",
     "output_type": "stream",
     "text": [
      "LOANEE_DOB_DAYS\n"
     ]
    },
    {
     "data": {
      "image/png": "[encoded data removed]",
      "text/plain": [
       "<Figure size 432x288 with 1 Axes>"
      ]
     },
     "metadata": {
      "needs_background": "light"
     },
     "output_type": "display_data"
    },
    {
     "name": "stdout",
     "output_type": "stream",
     "text": [
      "DISBURSAL_DATE_DAYS\n"
     ]
    },
    {
     "data": {
      "image/png": "[encoded data removed]",
      "text/plain": [
       "<Figure size 432x288 with 1 Axes>"
      ]
     },
     "metadata": {
      "needs_background": "light"
     },
     "output_type": "display_data"
    }
   ],
   "source": [
    "for i in numerical.columns:\n",
    "    print(i)\n",
    "    boxplot_plot(df, i)"
   ]
  },
  {
   "cell_type": "code",
   "execution_count": 408,
   "id": "f4991f09",
   "metadata": {},
   "outputs": [],
   "source": [
    "def outlier_remover(df, col):\n",
    "    q1 = df[col].quantile(0.25)\n",
    "    q3 = df[col].quantile(0.75)\n",
    "    IQR = q3 - q1\n",
    "    LL = q1 - 1.5 * IQR\n",
    "    UL = q3 + 1.5 * IQR\n",
    "    df = df[df[col] < UL]\n",
    "    df = df[df[col] > LL]\n",
    "    return df"
   ]
  },
  {
   "cell_type": "code",
   "execution_count": 441,
   "id": "b31b98e5",
   "metadata": {
    "scrolled": true
   },
   "outputs": [
    {
     "data": {
      "text/plain": [
       "(233154, 27)"
      ]
     },
     "execution_count": 441,
     "metadata": {},
     "output_type": "execute_result"
    }
   ],
   "source": [
    "df.shape"
   ]
  },
  {
   "cell_type": "code",
   "execution_count": 447,
   "id": "71ed2ec8",
   "metadata": {},
   "outputs": [],
   "source": [
    "# remove outliers of NO_OF_ACCTS that are greater than 7.5 (total loans at the time of disbursement)\n",
    "rm_outlier_df = outlier_remover(df, 'PRI_NO_OF_ACCTS')"
   ]
  },
  {
   "cell_type": "code",
   "execution_count": 448,
   "id": "30d79c56",
   "metadata": {},
   "outputs": [
    {
     "data": {
      "text/plain": [
       "(211240, 27)"
      ]
     },
     "execution_count": 448,
     "metadata": {},
     "output_type": "execute_result"
    }
   ],
   "source": [
    "rm_outlier_df.shape"
   ]
  },
  {
   "cell_type": "code",
   "execution_count": 458,
   "id": "c772b3c3",
   "metadata": {},
   "outputs": [
    {
     "data": {
      "image/png": "[encoded data removed]",
      "text/plain": [
       "<Figure size 432x288 with 1 Axes>"
      ]
     },
     "metadata": {
      "needs_background": "light"
     },
     "output_type": "display_data"
    }
   ],
   "source": [
    "plt.boxplot(x='PRI_NO_OF_ACCTS', data=rm_outlier_df, vert=False);"
   ]
  },
  {
   "cell_type": "code",
   "execution_count": 449,
   "id": "39c06767",
   "metadata": {},
   "outputs": [],
   "source": [
    "# remove outliers of ACTIVE_ACCTS greater than 2.5 (active loans at the time of disburesment)\n",
    "rm_outlier_df = outlier_remover(rm_outlier_df,'PRI_ACTIVE_ACCTS')"
   ]
  },
  {
   "cell_type": "code",
   "execution_count": 459,
   "id": "78e16dfb",
   "metadata": {},
   "outputs": [
    {
     "data": {
      "image/png": "[encoded data removed]",
      "text/plain": [
       "<Figure size 432x288 with 1 Axes>"
      ]
     },
     "metadata": {
      "needs_background": "light"
     },
     "output_type": "display_data"
    }
   ],
   "source": [
    "plt.boxplot(x='PRI_ACTIVE_ACCTS', data=rm_outlier_df, vert=False);"
   ]
  },
  {
   "cell_type": "code",
   "execution_count": 450,
   "id": "8806d484",
   "metadata": {},
   "outputs": [
    {
     "data": {
      "text/plain": [
       "(195737, 27)"
      ]
     },
     "execution_count": 450,
     "metadata": {},
     "output_type": "execute_result"
    }
   ],
   "source": [
    "rm_outlier_df.shape"
   ]
  },
  {
   "cell_type": "code",
   "execution_count": 456,
   "id": "a45f4067",
   "metadata": {},
   "outputs": [
    {
     "name": "stdout",
     "output_type": "stream",
     "text": [
      "number of deleted records: 37417\n"
     ]
    }
   ],
   "source": [
    "print(\"Number of deleted records:\",df.shape[0]-rm_outlier_df.shape[0]) "
   ]
  },
  {
   "cell_type": "code",
   "execution_count": 462,
   "id": "3aa9064b",
   "metadata": {},
   "outputs": [
    {
     "data": {
      "text/plain": [
       "16.048191324189162"
      ]
     },
     "execution_count": 462,
     "metadata": {},
     "output_type": "execute_result"
    }
   ],
   "source": [
    "(df.shape[0]-rm_outlier_df.shape[0])/df.shape[0]*100 # ?????????"
   ]
  },
  {
   "cell_type": "markdown",
   "id": "a8c8be3f",
   "metadata": {},
   "source": [
    "> I seperated the two dataframe to compare, if we agree on this, we should assign outlier remover function to the main dataframe"
   ]
  },
  {
   "cell_type": "markdown",
   "id": "bc8ff80a",
   "metadata": {},
   "source": [
    "## Feature Engineering"
   ]
  },
  {
   "cell_type": "code",
   "execution_count": 463,
   "id": "ef6a7e85",
   "metadata": {},
   "outputs": [
    {
     "data": {
      "text/plain": [
       "Index(['DISBURSED_AMOUNT', 'ASSET_COST', 'EMPLOYMENT_TYPE', 'DRIVING_FLAG',\n",
       "       'PERFORM_CNS_SCORE', 'PRI_NO_OF_ACCTS', 'PRI_ACTIVE_ACCTS',\n",
       "       'PRI_OVERDUE_ACCTS', 'PRI_CURRENT_BALANCE', 'PRI_SANCTIONED_AMOUNT',\n",
       "       'PRI_DISBURSED_AMOUNT', 'SEC_NO_OF_ACCTS', 'SEC_ACTIVE_ACCTS',\n",
       "       'SEC_OVERDUE_ACCTS', 'SEC_CURRENT_BALANCE', 'SEC_SANCTIONED_AMOUNT',\n",
       "       'SEC_DISBURSED_AMOUNT', 'PRIMARY_INSTAL_AMT', 'SEC_INSTAL_AMT',\n",
       "       'NEW_ACCTS_IN_LAST_SIX_MONTHS', 'DELINQUENT_ACCTS_IN_LAST_SIX_MONTHS',\n",
       "       'AVERAGE_ACCT_AGE', 'CREDIT_HISTORY_LENGTH', 'NO_OF_INQUIRIES',\n",
       "       'LOAN_DEFAULT', 'LOANEE_DOB_DAYS', 'DISBURSAL_DATE_DAYS'],\n",
       "      dtype='object')"
      ]
     },
     "execution_count": 463,
     "metadata": {},
     "output_type": "execute_result"
    }
   ],
   "source": [
    "df.columns"
   ]
  },
  {
   "cell_type": "code",
   "execution_count": 466,
   "id": "48cca22f",
   "metadata": {},
   "outputs": [
    {
     "data": {
      "text/plain": [
       "178.0"
      ]
     },
     "execution_count": 466,
     "metadata": {},
     "output_type": "execute_result"
    }
   ],
   "source": [
    "# binning PERFORM_CNS_SCORE to 5 bins, (very_low, low, medium, high, very_high)\n",
    "df['PERFORM_CNS_SCORE'].max()/5"
   ]
  },
  {
   "cell_type": "code",
   "execution_count": 467,
   "id": "90de7dc0",
   "metadata": {},
   "outputs": [],
   "source": [
    "labels = [\"Very low\", \"Low\", \"Medium\", \"High\", \"Very high\"]"
   ]
  },
  {
   "cell_type": "code",
   "execution_count": 469,
   "id": "a32ccbb0",
   "metadata": {},
   "outputs": [
    {
     "data": {
      "text/plain": [
       "0           0\n",
       "1         598\n",
       "2           0\n",
       "3         305\n",
       "4           0\n",
       "         ... \n",
       "233149    735\n",
       "233150    825\n",
       "233151      0\n",
       "233152      0\n",
       "233153      0\n",
       "Name: PERFORM_CNS_SCORE, Length: 233154, dtype: int64"
      ]
     },
     "execution_count": 469,
     "metadata": {},
     "output_type": "execute_result"
    }
   ],
   "source": [
    "df['PERFORM_CNS_SCORE']"
   ]
  },
  {
   "cell_type": "code",
   "execution_count": 470,
   "id": "01e50eea",
   "metadata": {
    "scrolled": true
   },
   "outputs": [],
   "source": [
    "df['PERFORM_CNS_DESC'] = pd.cut(df['PERFORM_CNS_SCORE'], 5, labels=labels)"
   ]
  },
  {
   "cell_type": "code",
   "execution_count": 483,
   "id": "57e0219e",
   "metadata": {},
   "outputs": [
    {
     "data": {
      "text/plain": [
       "PERFORM_CNS_DESC\n",
       "Very low       0\n",
       "Low          300\n",
       "Medium       357\n",
       "High         535\n",
       "Very high    713\n",
       "Name: PERFORM_CNS_SCORE, dtype: int64"
      ]
     },
     "execution_count": 483,
     "metadata": {},
     "output_type": "execute_result"
    }
   ],
   "source": [
    "df.groupby('PERFORM_CNS_DESC')['PERFORM_CNS_SCORE'].min()"
   ]
  },
  {
   "cell_type": "code",
   "execution_count": 498,
   "id": "b839f1bc",
   "metadata": {},
   "outputs": [
    {
     "data": {
      "text/html": [
       "<div>\n",
       "<style scoped>\n",
       "    .dataframe tbody tr th:only-of-type {\n",
       "        vertical-align: middle;\n",
       "    }\n",
       "\n",
       "    .dataframe tbody tr th {\n",
       "        vertical-align: top;\n",
       "    }\n",
       "\n",
       "    .dataframe thead th {\n",
       "        text-align: right;\n",
       "    }\n",
       "</style>\n",
       "<table border=\"1\" class=\"dataframe\">\n",
       "  <thead>\n",
       "    <tr style=\"text-align: right;\">\n",
       "      <th></th>\n",
       "      <th>min</th>\n",
       "      <th>max</th>\n",
       "      <th>count</th>\n",
       "    </tr>\n",
       "    <tr>\n",
       "      <th>PERFORM_CNS_DESC</th>\n",
       "      <th></th>\n",
       "      <th></th>\n",
       "      <th></th>\n",
       "    </tr>\n",
       "  </thead>\n",
       "  <tbody>\n",
       "    <tr>\n",
       "      <th>Very low</th>\n",
       "      <td>0</td>\n",
       "      <td>18</td>\n",
       "      <td>129785</td>\n",
       "    </tr>\n",
       "    <tr>\n",
       "      <th>Low</th>\n",
       "      <td>300</td>\n",
       "      <td>356</td>\n",
       "      <td>10036</td>\n",
       "    </tr>\n",
       "    <tr>\n",
       "      <th>Medium</th>\n",
       "      <td>357</td>\n",
       "      <td>534</td>\n",
       "      <td>8855</td>\n",
       "    </tr>\n",
       "    <tr>\n",
       "      <th>High</th>\n",
       "      <td>535</td>\n",
       "      <td>712</td>\n",
       "      <td>39532</td>\n",
       "    </tr>\n",
       "    <tr>\n",
       "      <th>Very high</th>\n",
       "      <td>713</td>\n",
       "      <td>890</td>\n",
       "      <td>44946</td>\n",
       "    </tr>\n",
       "  </tbody>\n",
       "</table>\n",
       "</div>"
      ],
      "text/plain": [
       "                  min  max   count\n",
       "PERFORM_CNS_DESC                  \n",
       "Very low            0   18  129785\n",
       "Low               300  356   10036\n",
       "Medium            357  534    8855\n",
       "High              535  712   39532\n",
       "Very high         713  890   44946"
      ]
     },
     "execution_count": 498,
     "metadata": {},
     "output_type": "execute_result"
    }
   ],
   "source": [
    "df.groupby('PERFORM_CNS_DESC')['PERFORM_CNS_SCORE'].agg(['min', 'max', 'count'])"
   ]
  },
  {
   "cell_type": "code",
   "execution_count": 506,
   "id": "4d4ec17b",
   "metadata": {},
   "outputs": [
    {
     "data": {
      "text/plain": [
       "18"
      ]
     },
     "execution_count": 506,
     "metadata": {},
     "output_type": "execute_result"
    }
   ],
   "source": [
    "# verify binning\n",
    "df[df['PERFORM_CNS_SCORE'] < df['PERFORM_CNS_SCORE'].max()/5]['PERFORM_CNS_SCORE'].max()"
   ]
  },
  {
   "cell_type": "code",
   "execution_count": 507,
   "id": "240ae045",
   "metadata": {},
   "outputs": [
    {
     "data": {
      "text/plain": [
       "355"
      ]
     },
     "execution_count": 507,
     "metadata": {},
     "output_type": "execute_result"
    }
   ],
   "source": [
    "df[df['PERFORM_CNS_SCORE'] < (df['PERFORM_CNS_SCORE'].max()/5)*2]['PERFORM_CNS_SCORE'].max()"
   ]
  },
  {
   "cell_type": "code",
   "execution_count": 508,
   "id": "271c3f52",
   "metadata": {},
   "outputs": [
    {
     "data": {
      "text/plain": [
       "533"
      ]
     },
     "execution_count": 508,
     "metadata": {},
     "output_type": "execute_result"
    }
   ],
   "source": [
    "df[df['PERFORM_CNS_SCORE'] < (df['PERFORM_CNS_SCORE'].max()/5)*3]['PERFORM_CNS_SCORE'].max()"
   ]
  },
  {
   "cell_type": "code",
   "execution_count": 509,
   "id": "eaeebf4d",
   "metadata": {},
   "outputs": [
    {
     "data": {
      "text/plain": [
       "711"
      ]
     },
     "execution_count": 509,
     "metadata": {},
     "output_type": "execute_result"
    }
   ],
   "source": [
    "df[df['PERFORM_CNS_SCORE'] < (df['PERFORM_CNS_SCORE'].max()/5)*4]['PERFORM_CNS_SCORE'].max()"
   ]
  },
  {
   "cell_type": "code",
   "execution_count": null,
   "id": "e68ab759",
   "metadata": {},
   "outputs": [],
   "source": []
  },
  {
   "cell_type": "code",
   "execution_count": 518,
   "id": "f646caf4",
   "metadata": {},
   "outputs": [],
   "source": [
    "# Extract new feature called loan to asset ratio (LTA)\n",
    "\n",
    "df['LTA'] = round(df['DISBURSED_AMOUNT']/df['ASSET_COST']*100, 2)"
   ]
  },
  {
   "cell_type": "code",
   "execution_count": null,
   "id": "ee1cdd7d",
   "metadata": {},
   "outputs": [],
   "source": []
  }
 ],
 "metadata": {
  "kernelspec": {
   "display_name": "t5",
   "language": "python",
   "name": "t5"
  },
  "language_info": {
   "codemirror_mode": {
    "name": "ipython",
    "version": 3
   },
   "file_extension": ".py",
   "mimetype": "text/x-python",
   "name": "python",
   "nbconvert_exporter": "python",
   "pygments_lexer": "ipython3",
   "version": "3.7.11"
  }
 },
 "nbformat": 4,
 "nbformat_minor": 5
}
